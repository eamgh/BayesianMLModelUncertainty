{
 "cells": [
  {
   "cell_type": "code",
   "execution_count": 2,
   "metadata": {
    "collapsed": true
   },
   "outputs": [],
   "source": [
    "from uncertainty_analysis import random_forest_ensemble as rfe\n",
    "import pandas as pd\n",
    "import openml"
   ]
  },
  {
   "cell_type": "code",
   "execution_count": 3,
   "outputs": [
    {
     "name": "stderr",
     "output_type": "stream",
     "text": [
      "C:\\Users\\elsag\\OneDrive\\Desktop\\Uni\\Year 4\\Academic\\Dissertation\\Final Report\\Code\\scikit-learn-1.2.1\\scikit-learn-1.2.1\\venv\\lib\\site-packages\\openml\\datasets\\functions.py:438: FutureWarning: Starting from Version 0.15 `download_data`, `download_qualities`, and `download_features_meta_data` will all be ``False`` instead of ``True`` by default to enable lazy loading. To disable this message until version 0.15 explicitly set `download_data`, `download_qualities`, and `download_features_meta_data` to a bool while calling `get_dataset`.\n",
      "  warnings.warn(\n"
     ]
    }
   ],
   "source": [
    "dataset = openml.datasets.get_dataset(44061)\n",
    "X, y, _, attribute_names = dataset.get_data(target=dataset.default_target_attribute)\n",
    "X, y, _, attribute_names = dataset.get_data(target=dataset.default_target_attribute)"
   ],
   "metadata": {
    "collapsed": false
   }
  },
  {
   "cell_type": "code",
   "execution_count": 4,
   "outputs": [],
   "source": [
    "columns_to_encode = ['X3', 'X4', 'X6']\n",
    "X = pd.get_dummies(X, columns=columns_to_encode)"
   ],
   "metadata": {
    "collapsed": false
   }
  },
  {
   "cell_type": "code",
   "execution_count": 5,
   "outputs": [],
   "source": [
    "from sklearn.model_selection import train_test_split\n",
    "X_train, X_test, y_train, y_test = train_test_split(X, y, test_size=0.3, random_state=42)"
   ],
   "metadata": {
    "collapsed": false
   }
  },
  {
   "cell_type": "code",
   "execution_count": 6,
   "outputs": [],
   "source": [
    "merc_rf_ens = []\n",
    "merc_rf_ens_preds = [] # List[ensemble np.array[regressors np.array[predictions]]\n",
    "for i in range(0, 10):\n",
    "    m = rfe.RandomForestRegressorEnsemble(n_jobs=5, n_regressors=100, criterion='poisson',\n",
    "                                                 max_depth=None, max_features=50, min_samples_leaf=5,\n",
    "                                                 min_samples_split=30, n_estimators=600).fit(X_train, y_train)\n",
    "    merc_rf_ens.append(m)\n",
    "    merc_rf_ens_preds.append(m.predict(X_test.apply(pd.to_numeric)))"
   ],
   "metadata": {
    "collapsed": false
   }
  },
  {
   "cell_type": "code",
   "execution_count": 7,
   "outputs": [],
   "source": [
    "from uncertainty_analysis import project_helper_functions as phf\n",
    "\n",
    "best_model_results = merc_rf_ens_preds[phf.get_best_model_idx(merc_rf_ens_preds, y_test)]\n",
    "phf.write_ensemble_model_results(best_model_results.T, \"merc_ensemble_rf_results.txt\")"
   ],
   "metadata": {
    "collapsed": false
   }
  }
 ],
 "metadata": {
  "kernelspec": {
   "display_name": "Python 3",
   "language": "python",
   "name": "python3"
  },
  "language_info": {
   "codemirror_mode": {
    "name": "ipython",
    "version": 2
   },
   "file_extension": ".py",
   "mimetype": "text/x-python",
   "name": "python",
   "nbconvert_exporter": "python",
   "pygments_lexer": "ipython2",
   "version": "2.7.6"
  }
 },
 "nbformat": 4,
 "nbformat_minor": 0
}
