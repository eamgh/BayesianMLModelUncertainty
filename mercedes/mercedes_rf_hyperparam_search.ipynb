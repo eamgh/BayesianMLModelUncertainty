{
 "cells": [
  {
   "cell_type": "code",
   "execution_count": 1,
   "outputs": [],
   "source": [
    "import pandas as pd\n",
    "import numpy as np"
   ],
   "metadata": {
    "collapsed": false
   }
  },
  {
   "cell_type": "code",
   "execution_count": 2,
   "outputs": [
    {
     "name": "stderr",
     "output_type": "stream",
     "text": [
      "C:\\Users\\elsag\\OneDrive\\Desktop\\Uni\\Year 4\\Academic\\Dissertation\\Final Report\\Code\\scikit-learn-1.2.1\\scikit-learn-1.2.1\\venv\\lib\\site-packages\\openml\\datasets\\functions.py:438: FutureWarning: Starting from Version 0.15 `download_data`, `download_qualities`, and `download_features_meta_data` will all be ``False`` instead of ``True`` by default to enable lazy loading. To disable this message until version 0.15 explicitly set `download_data`, `download_qualities`, and `download_features_meta_data` to a bool while calling `get_dataset`.\n",
      "  warnings.warn(\n"
     ]
    }
   ],
   "source": [
    "# import dataset\n",
    "import openml\n",
    "\n",
    "dataset = openml.datasets.get_dataset(44061)\n",
    "X, y, _, attribute_names = dataset.get_data(target=dataset.default_target_attribute)"
   ],
   "metadata": {
    "collapsed": false
   }
  },
  {
   "cell_type": "code",
   "execution_count": 3,
   "outputs": [
    {
     "name": "stdout",
     "output_type": "stream",
     "text": [
      "(4209, 359)\n",
      "  X3 X4  X6 X10 X12 X13 X14 X15 X16 X17  ... X375 X376 X377 X378 X379 X380  \\\n",
      "0  0  3   9   0   0   1   0   0   0   0  ...    0    0    1    0    0    0   \n",
      "1  4  3  11   0   0   0   0   0   0   0  ...    1    0    0    0    0    0   \n",
      "2  2  3   9   0   0   0   0   0   0   1  ...    0    0    0    0    0    0   \n",
      "3  5  3  11   0   0   0   0   0   0   0  ...    0    0    0    0    0    0   \n",
      "4  5  3   3   0   0   0   0   0   0   0  ...    0    0    0    0    0    0   \n",
      "\n",
      "  X382 X383 X384 X385  \n",
      "0    0    0    0    0  \n",
      "1    0    0    0    0  \n",
      "2    1    0    0    0  \n",
      "3    0    0    0    0  \n",
      "4    0    0    0    0  \n",
      "\n",
      "[5 rows x 359 columns]\n"
     ]
    }
   ],
   "source": [
    "print(X.shape)\n",
    "print(X.head())"
   ],
   "metadata": {
    "collapsed": false
   }
  },
  {
   "cell_type": "code",
   "execution_count": 4,
   "outputs": [
    {
     "name": "stdout",
     "output_type": "stream",
     "text": [
      "  X10 X12 X13 X14 X15 X16 X17 X18 X19 X20 X21 X22 X23 X24 X26 X27 X28 X29 X30  \\\n",
      "0   0   0   1   0   0   0   0   1   0   0   1   0   0   0   0   0   0   0   0   \n",
      "1   0   0   0   0   0   0   0   1   0   0   0   0   0   0   0   1   0   0   0   \n",
      "2   0   0   0   0   0   0   1   0   0   0   0   0   0   0   0   1   1   1   0   \n",
      "3   0   0   0   0   0   0   0   0   0   0   0   0   0   0   0   1   1   1   0   \n",
      "4   0   0   0   0   0   0   0   0   0   0   0   0   0   0   0   1   1   1   0   \n",
      "\n",
      "  X31 X32 X33 X34 X35 X36 X37 X38 X39 X40 X41 X42 X43 X44 X45 X46 X47 X48 X49  \\\n",
      "0   1   0   0   0   1   0   1   0   0   0   0   0   0   0   0   1   0   0   0   \n",
      "1   1   0   0   0   1   0   1   0   0   0   0   0   0   0   0   0   0   0   0   \n",
      "2   1   0   0   0   1   0   1   0   0   0   0   0   1   0   0   1   0   0   0   \n",
      "3   1   0   0   0   1   0   1   0   0   0   0   0   1   0   0   1   0   0   0   \n",
      "4   1   0   0   0   1   0   1   0   0   0   0   0   1   0   0   1   0   0   0   \n",
      "\n",
      "  X50 X51 X52 X53 X54 X55 X56 X57 X58 X59 X60 X61 X62 X63 X64 X65 X66 X67 X68  \\\n",
      "0   0   0   0   0   0   0   0   0   1   0   0   0   0   0   0   0   0   0   1   \n",
      "1   0   1   0   0   0   0   0   0   0   0   0   1   0   0   0   0   0   0   0   \n",
      "2   0   1   0   0   1   0   0   0   1   0   0   1   0   0   0   0   0   0   1   \n",
      "3   0   0   0   0   1   0   0   0   0   0   0   1   0   0   0   0   0   0   0   \n",
      "4   0   1   0   0   1   0   0   0   0   0   0   1   0   0   0   0   0   0   0   \n",
      "\n",
      "  X69 X70 X71 X73 X74 X75 X76 X77 X78 X79 X80 X81 X82 X83 X84 X85 X86 X87 X88  \\\n",
      "0   0   1   0   0   1   0   0   0   0   0   0   0   0   0   0   1   0   0   0   \n",
      "1   0   1   0   0   1   0   0   0   0   0   1   0   0   0   0   1   0   0   0   \n",
      "2   0   1   1   0   1   1   1   0   0   0   1   0   0   0   1   1   0   0   0   \n",
      "3   0   1   1   0   1   0   1   0   0   0   1   0   0   0   1   0   0   0   0   \n",
      "4   0   1   0   0   1   0   1   0   0   0   1   0   0   0   0   0   0   0   0   \n",
      "\n",
      "  X89 X90 X91 X92 X94 X95 X96 X97 X98 X99 X100 X101 X102 X103 X104 X105 X106  \\\n",
      "0   0   0   0   0   0   0   0   0   0   0    0    0    0    0    0    0    0   \n",
      "1   0   0   0   0   0   0   1   0   1   0    1    1    0    0    0    0    0   \n",
      "2   0   0   0   0   0   0   1   0   1   0    0    1    0    0    0    0    0   \n",
      "3   0   0   0   0   0   0   1   0   1   0    0    1    0    0    0    0    0   \n",
      "4   0   0   0   0   0   0   1   0   1   0    0    1    0    0    0    0    0   \n",
      "\n",
      "  X108 X109 X110 X111 X112 X113 X114 X115 X116 X117 X118 X119 X120 X122 X123  \\\n",
      "0    0    0    0    1    0    0    1    0    1    0    1    1    1    0    0   \n",
      "1    0    0    0    1    0    0    0    0    0    0    1    1    1    0    0   \n",
      "2    0    0    0    1    0    0    0    0    0    0    0    0    1    0    0   \n",
      "3    1    0    0    1    0    0    1    0    0    0    0    0    1    0    0   \n",
      "4    1    0    0    1    0    0    1    0    0    0    0    0    1    0    0   \n",
      "\n",
      "  X124 X125 X126 X127 X128 X129 X130 X131 X132 X133 X134 X135 X136 X137 X138  \\\n",
      "0    0    0    0    0    1    0    0    1    0    0    0    0    1    1    0   \n",
      "1    0    0    0    1    1    0    0    0    1    0    0    0    1    0    0   \n",
      "2    0    0    0    0    1    0    0    0    1    0    0    0    0    1    0   \n",
      "3    0    0    0    0    1    0    0    0    1    0    0    0    0    0    0   \n",
      "4    0    0    0    0    1    0    0    0    1    0    0    0    0    0    0   \n",
      "\n",
      "  X139 X140 X141 X142 X143 X144 X145 X146 X147 X148 X150 X151 X152 X153 X154  \\\n",
      "0    0    0    0    1    0    1    0    0    0    0    1    0    0    0    0   \n",
      "1    0    0    0    1    0    1    0    0    0    0    1    0    0    0    0   \n",
      "2    0    0    0    0    0    1    0    0    0    1    1    0    0    0    0   \n",
      "3    0    0    0    1    0    1    0    0    0    1    1    0    0    0    0   \n",
      "4    0    0    0    0    0    1    0    0    0    1    1    0    0    0    0   \n",
      "\n",
      "  X155 X156 X157 X158 X159 X160 X161 X162 X163 X164 X165 X166 X167 X168 X169  \\\n",
      "0    0    1    0    0    0    0    0    0    0    0    0    0    0    0    0   \n",
      "1    0    1    0    0    0    0    0    0    0    0    1    0    0    0    0   \n",
      "2    0    0    1    1    0    0    0    1    1    0    0    0    0    0    1   \n",
      "3    0    0    1    0    0    0    0    1    0    0    0    1    0    0    0   \n",
      "4    0    0    1    1    0    0    0    1    0    0    0    1    0    0    0   \n",
      "\n",
      "  X170 X171 X172 X173 X174 X175 X176 X177 X178 X179 X180 X181 X182 X183 X184  \\\n",
      "0    1    0    0    0    0    0    0    0    0    1    0    0    0    0    1   \n",
      "1    0    0    0    0    0    0    0    0    1    0    0    0    0    0    0   \n",
      "2    0    0    0    0    0    0    0    0    0    1    0    0    0    0    0   \n",
      "3    0    0    0    0    1    0    0    0    0    1    0    0    0    0    0   \n",
      "4    0    0    0    0    0    0    0    0    0    1    0    0    0    0    0   \n",
      "\n",
      "  X185 X186 X187 X189 X190 X191 X192 X194 X195 X196 X197 X198 X199 X200 X201  \\\n",
      "0    0    0    1    1    0    0    0    1    0    0    0    0    0    0    0   \n",
      "1    0    0    1    1    0    0    0    1    0    0    0    0    0    0    0   \n",
      "2    0    0    0    0    0    0    0    1    0    0    0    0    0    0    0   \n",
      "3    0    0    0    0    0    0    0    1    0    0    0    0    0    0    0   \n",
      "4    0    0    0    0    0    0    0    1    0    0    0    0    0    0    0   \n",
      "\n",
      "  X202 X203 X204 X205 X206 X207 X208 X209 X210 X211 X212 X213 X214 X215 X216  \\\n",
      "0    0    0    1    0    0    0    0    1    0    0    0    0    0    0    0   \n",
      "1    0    0    0    1    0    0    0    1    0    0    0    0    0    0    0   \n",
      "2    0    0    0    1    1    0    0    1    0    0    0    0    0    0    0   \n",
      "3    0    0    0    1    0    0    0    1    0    0    0    0    0    0    0   \n",
      "4    0    0    0    1    0    0    0    1    0    0    0    0    0    0    0   \n",
      "\n",
      "  X217 X218 X219 X220 X221 X222 X223 X224 X225 X226 X227 X228 X229 X230 X231  \\\n",
      "0    0    0    0    1    0    0    0    0    0    0    0    0    0    0    0   \n",
      "1    0    0    0    0    0    0    0    0    0    0    0    0    1    0    0   \n",
      "2    0    1    1    1    0    0    1    1    0    0    0    1    0    0    0   \n",
      "3    0    1    0    1    0    0    1    0    0    0    0    0    1    0    0   \n",
      "4    0    1    0    1    0    0    1    0    0    0    0    0    1    0    0   \n",
      "\n",
      "  X232 X234 X236 X237 X238 X239 X240 X241 X242 X243 X244 X245 X246 X247 X248  \\\n",
      "0    0    1    0    1    0    0    0    0    0    0    0    0    0    0    0   \n",
      "1    0    0    0    0    1    0    0    0    0    0    0    0    0    0    0   \n",
      "2    1    0    0    0    0    0    0    1    0    0    1    0    1    0    0   \n",
      "3    1    0    0    0    0    0    0    1    0    0    1    0    1    0    0   \n",
      "4    1    0    0    0    0    0    0    0    0    0    0    0    1    0    0   \n",
      "\n",
      "  X249 X250 X251 X252 X253 X254 X255 X256 X257 X258 X259 X260 X261 X262 X263  \\\n",
      "0    0    0    0    0    0    0    0    0    0    0    0    0    0    1    1   \n",
      "1    0    1    0    0    0    0    0    0    0    0    0    0    0    0    1   \n",
      "2    0    1    0    1    0    0    0    1    0    0    0    0    0    0    0   \n",
      "3    0    1    0    1    0    0    0    1    0    0    0    0    0    0    0   \n",
      "4    0    1    0    1    0    0    0    1    0    0    0    0    0    0    0   \n",
      "\n",
      "  X264 X265 X266 X267 X269 X270 X271 X272 X273 X274 X275 X276 X277 X278 X279  \\\n",
      "0    0    0    1    0    0    0    0    0    1    0    1    0    0    0    0   \n",
      "1    0    1    0    0    0    0    0    0    1    0    1    0    0    0    0   \n",
      "2    0    0    0    0    0    0    0    1    1    1    0    1    0    0    1   \n",
      "3    0    0    0    0    0    0    0    1    1    0    0    1    0    0    1   \n",
      "4    0    0    0    0    0    0    0    1    1    0    0    1    0    0    1   \n",
      "\n",
      "  X280 X281 X282 X283 X284 X285 X286 X287 X288 X291 X292 X294 X295 X296 X298  \\\n",
      "0    0    0    0    0    0    1    0    0    0    0    0    0    0    0    0   \n",
      "1    0    0    0    0    0    1    0    0    0    0    0    0    0    0    0   \n",
      "2    0    0    0    0    0    0    1    0    0    0    0    0    0    0    0   \n",
      "3    0    0    0    0    0    0    1    0    0    1    0    0    0    0    0   \n",
      "4    0    0    0    0    0    0    1    0    0    0    0    0    0    0    0   \n",
      "\n",
      "  X299 X300 X301 X302 X304 X305 X306 X307 X308 X309 X310 X311 X312 X313 X314  \\\n",
      "0    0    0    0    0    0    0    1    0    0    0    0    0    0    0    0   \n",
      "1    0    0    0    0    1    0    0    0    0    0    0    1    0    0    0   \n",
      "2    0    0    0    0    1    0    0    0    0    0    0    0    0    0    0   \n",
      "3    0    0    0    0    1    0    0    0    0    0    0    0    0    0    0   \n",
      "4    0    0    0    0    1    0    0    0    0    0    0    0    0    0    0   \n",
      "\n",
      "  X315 X316 X317 X318 X319 X320 X321 X322 X323 X324 X325 X326 X327 X328 X329  \\\n",
      "0    0    1    0    0    0    0    0    0    0    1    0    0    1    0    1   \n",
      "1    0    1    0    0    0    0    0    0    0    0    0    0    0    0    1   \n",
      "2    0    0    0    0    0    0    0    0    0    1    0    0    0    1    0   \n",
      "3    0    0    0    0    0    0    0    0    0    0    0    0    0    1    0   \n",
      "4    0    0    0    0    0    0    0    0    0    0    0    0    0    1    0   \n",
      "\n",
      "  X331 X332 X333 X334 X335 X336 X337 X338 X339 X340 X341 X342 X343 X344 X345  \\\n",
      "0    0    0    0    1    0    0    0    0    0    0    0    0    0    0    0   \n",
      "1    0    0    0    0    0    1    1    0    0    0    0    0    0    0    0   \n",
      "2    0    0    0    1    0    0    0    0    0    0    0    0    0    0    0   \n",
      "3    0    0    0    0    0    0    0    0    0    0    0    0    0    0    0   \n",
      "4    0    0    0    1    0    0    0    0    0    0    0    0    0    0    0   \n",
      "\n",
      "  X346 X348 X349 X350 X351 X352 X353 X354 X355 X356 X357 X358 X359 X360 X361  \\\n",
      "0    0    0    0    0    0    0    0    1    0    0    0    0    0    0    1   \n",
      "1    0    1    0    0    0    0    0    0    0    0    0    0    0    0    1   \n",
      "2    0    1    0    1    0    0    0    1    0    0    0    1    0    0    1   \n",
      "3    0    1    0    1    0    0    0    0    0    0    0    1    0    0    1   \n",
      "4    0    1    0    1    0    0    0    0    0    0    0    1    0    0    1   \n",
      "\n",
      "  X362 X363 X364 X365 X366 X367 X368 X369 X370 X371 X372 X373 X374 X375 X376  \\\n",
      "0    0    0    0    0    0    0    0    0    0    0    0    0    0    0    0   \n",
      "1    0    1    0    0    0    0    0    0    0    0    0    0    0    1    0   \n",
      "2    0    1    0    0    0    0    0    0    0    0    0    0    0    0    0   \n",
      "3    0    1    0    0    0    0    0    0    0    0    1    0    0    0    0   \n",
      "4    0    1    0    0    0    0    0    0    0    1    0    0    0    0    0   \n",
      "\n",
      "  X377 X378 X379 X380 X382 X383 X384 X385  X3_0  X3_1  X3_2  X3_3  X3_4  X3_5  \\\n",
      "0    1    0    0    0    0    0    0    0     1     0     0     0     0     0   \n",
      "1    0    0    0    0    0    0    0    0     0     0     0     0     1     0   \n",
      "2    0    0    0    0    1    0    0    0     0     0     1     0     0     0   \n",
      "3    0    0    0    0    0    0    0    0     0     0     0     0     0     1   \n",
      "4    0    0    0    0    0    0    0    0     0     0     0     0     0     1   \n",
      "\n",
      "   X3_6  X4_0  X4_1  X4_2  X4_3  X6_0  X6_1  X6_10  X6_11  X6_2  X6_3  X6_4  \\\n",
      "0     0     0     0     0     1     0     0      0      0     0     0     0   \n",
      "1     0     0     0     0     1     0     0      0      1     0     0     0   \n",
      "2     0     0     0     0     1     0     0      0      0     0     0     0   \n",
      "3     0     0     0     0     1     0     0      0      1     0     0     0   \n",
      "4     0     0     0     0     1     0     0      0      0     0     1     0   \n",
      "\n",
      "   X6_5  X6_6  X6_7  X6_8  X6_9  \n",
      "0     0     0     0     0     1  \n",
      "1     0     0     0     0     0  \n",
      "2     0     0     0     0     1  \n",
      "3     0     0     0     0     0  \n",
      "4     0     0     0     0     0  \n"
     ]
    }
   ],
   "source": [
    "columns_to_encode = ['X3', 'X4', 'X6']\n",
    "X = pd.get_dummies(X, columns=columns_to_encode)\n",
    "\n",
    "# Display the one-hot encoded DataFrame\n",
    "pd.set_option('display.max_columns', None)\n",
    "print(X.head())\n",
    "pd.reset_option('display.max_columns')"
   ],
   "metadata": {
    "collapsed": false
   }
  },
  {
   "cell_type": "code",
   "execution_count": 5,
   "outputs": [
    {
     "name": "stdout",
     "output_type": "stream",
     "text": [
      "(4209, 379)\n"
     ]
    }
   ],
   "source": [
    "# split dataset, split again to reduce number of samples used in tuning\n",
    "from sklearn.model_selection import train_test_split\n",
    "X_train, X_test, y_train, y_test = train_test_split(X, y, test_size=0.3, random_state=42)\n",
    "X_values = X_train.head(800)\n",
    "y_values = y_train.head(800)\n",
    "print(X.shape)"
   ],
   "metadata": {
    "collapsed": false
   }
  },
  {
   "cell_type": "code",
   "execution_count": 6,
   "outputs": [],
   "source": [
    "from sklearn.model_selection import RandomizedSearchCV\n",
    "from sklearn.ensemble import RandomForestRegressor\n",
    "from pprint import pprint"
   ],
   "metadata": {
    "collapsed": false
   }
  },
  {
   "cell_type": "code",
   "execution_count": 7,
   "outputs": [
    {
     "name": "stdout",
     "output_type": "stream",
     "text": [
      "{'criterion': ['squared_error', 'absolute_error', 'friedman_mse', 'poisson'],\n",
      " 'max_depth': [50, 100, 150, 200, 250, 300, 350, 400, 450, 500, None],\n",
      " 'max_features': [1, 14, 27, 40],\n",
      " 'min_samples_leaf': [5, 10, 15],\n",
      " 'min_samples_split': [10, 20, 30],\n",
      " 'n_estimators': [100,\n",
      "                  200,\n",
      "                  300,\n",
      "                  400,\n",
      "                  500,\n",
      "                  600,\n",
      "                  700,\n",
      "                  800,\n",
      "                  900,\n",
      "                  1000,\n",
      "                  1100,\n",
      "                  1200,\n",
      "                  1300,\n",
      "                  1400,\n",
      "                  1500]}\n"
     ]
    }
   ],
   "source": [
    "# create search grid for RandomizedSearch\n",
    "\n",
    "n_estimators = [int(x) for x in np.linspace(start=100, stop=1500, num=15)]\n",
    "\n",
    "criterion = ['squared_error', 'absolute_error', 'friedman_mse', 'poisson']\n",
    "\n",
    "max_depth = [int(x) for x in np.linspace(50, 500, num=10)]\n",
    "max_depth.append(None)\n",
    "\n",
    "min_samples_split = [10, 20, 30]\n",
    "\n",
    "min_samples_leaf = [5, 10, 15]\n",
    "\n",
    "max_features = [int(x) for x in np.linspace(start=1, stop=40, num=4)]\n",
    "\n",
    "random_grid = {'n_estimators': n_estimators,\n",
    "               'criterion': criterion,\n",
    "               'max_depth': max_depth,\n",
    "               'min_samples_split': min_samples_split,\n",
    "               'min_samples_leaf': min_samples_leaf,\n",
    "               'max_features': max_features}\n",
    "\n",
    "pprint(random_grid)"
   ],
   "metadata": {
    "collapsed": false
   }
  },
  {
   "cell_type": "code",
   "execution_count": 8,
   "outputs": [
    {
     "name": "stdout",
     "output_type": "stream",
     "text": [
      "Fitting 3 folds for each of 150 candidates, totalling 450 fits\n"
     ]
    },
    {
     "data": {
      "text/plain": "RandomizedSearchCV(cv=3, estimator=RandomForestRegressor(), n_iter=150,\n                   n_jobs=-1,\n                   param_distributions={'criterion': ['squared_error',\n                                                      'absolute_error',\n                                                      'friedman_mse',\n                                                      'poisson'],\n                                        'max_depth': [50, 100, 150, 200, 250,\n                                                      300, 350, 400, 450, 500,\n                                                      None],\n                                        'max_features': [1, 14, 27, 40],\n                                        'min_samples_leaf': [5, 10, 15],\n                                        'min_samples_split': [10, 20, 30],\n                                        'n_estimators': [100, 200, 300, 400,\n                                                         500, 600, 700, 800,\n                                                         900, 1000, 1100, 1200,\n                                                         1300, 1400, 1500]},\n                   random_state=42, verbose=1)",
      "text/html": "<style>#sk-container-id-1 {color: black;background-color: white;}#sk-container-id-1 pre{padding: 0;}#sk-container-id-1 div.sk-toggleable {background-color: white;}#sk-container-id-1 label.sk-toggleable__label {cursor: pointer;display: block;width: 100%;margin-bottom: 0;padding: 0.3em;box-sizing: border-box;text-align: center;}#sk-container-id-1 label.sk-toggleable__label-arrow:before {content: \"▸\";float: left;margin-right: 0.25em;color: #696969;}#sk-container-id-1 label.sk-toggleable__label-arrow:hover:before {color: black;}#sk-container-id-1 div.sk-estimator:hover label.sk-toggleable__label-arrow:before {color: black;}#sk-container-id-1 div.sk-toggleable__content {max-height: 0;max-width: 0;overflow: hidden;text-align: left;background-color: #f0f8ff;}#sk-container-id-1 div.sk-toggleable__content pre {margin: 0.2em;color: black;border-radius: 0.25em;background-color: #f0f8ff;}#sk-container-id-1 input.sk-toggleable__control:checked~div.sk-toggleable__content {max-height: 200px;max-width: 100%;overflow: auto;}#sk-container-id-1 input.sk-toggleable__control:checked~label.sk-toggleable__label-arrow:before {content: \"▾\";}#sk-container-id-1 div.sk-estimator input.sk-toggleable__control:checked~label.sk-toggleable__label {background-color: #d4ebff;}#sk-container-id-1 div.sk-label input.sk-toggleable__control:checked~label.sk-toggleable__label {background-color: #d4ebff;}#sk-container-id-1 input.sk-hidden--visually {border: 0;clip: rect(1px 1px 1px 1px);clip: rect(1px, 1px, 1px, 1px);height: 1px;margin: -1px;overflow: hidden;padding: 0;position: absolute;width: 1px;}#sk-container-id-1 div.sk-estimator {font-family: monospace;background-color: #f0f8ff;border: 1px dotted black;border-radius: 0.25em;box-sizing: border-box;margin-bottom: 0.5em;}#sk-container-id-1 div.sk-estimator:hover {background-color: #d4ebff;}#sk-container-id-1 div.sk-parallel-item::after {content: \"\";width: 100%;border-bottom: 1px solid gray;flex-grow: 1;}#sk-container-id-1 div.sk-label:hover label.sk-toggleable__label {background-color: #d4ebff;}#sk-container-id-1 div.sk-serial::before {content: \"\";position: absolute;border-left: 1px solid gray;box-sizing: border-box;top: 0;bottom: 0;left: 50%;z-index: 0;}#sk-container-id-1 div.sk-serial {display: flex;flex-direction: column;align-items: center;background-color: white;padding-right: 0.2em;padding-left: 0.2em;position: relative;}#sk-container-id-1 div.sk-item {position: relative;z-index: 1;}#sk-container-id-1 div.sk-parallel {display: flex;align-items: stretch;justify-content: center;background-color: white;position: relative;}#sk-container-id-1 div.sk-item::before, #sk-container-id-1 div.sk-parallel-item::before {content: \"\";position: absolute;border-left: 1px solid gray;box-sizing: border-box;top: 0;bottom: 0;left: 50%;z-index: -1;}#sk-container-id-1 div.sk-parallel-item {display: flex;flex-direction: column;z-index: 1;position: relative;background-color: white;}#sk-container-id-1 div.sk-parallel-item:first-child::after {align-self: flex-end;width: 50%;}#sk-container-id-1 div.sk-parallel-item:last-child::after {align-self: flex-start;width: 50%;}#sk-container-id-1 div.sk-parallel-item:only-child::after {width: 0;}#sk-container-id-1 div.sk-dashed-wrapped {border: 1px dashed gray;margin: 0 0.4em 0.5em 0.4em;box-sizing: border-box;padding-bottom: 0.4em;background-color: white;}#sk-container-id-1 div.sk-label label {font-family: monospace;font-weight: bold;display: inline-block;line-height: 1.2em;}#sk-container-id-1 div.sk-label-container {text-align: center;}#sk-container-id-1 div.sk-container {/* jupyter's `normalize.less` sets `[hidden] { display: none; }` but bootstrap.min.css set `[hidden] { display: none !important; }` so we also need the `!important` here to be able to override the default hidden behavior on the sphinx rendered scikit-learn.org. See: https://github.com/scikit-learn/scikit-learn/issues/21755 */display: inline-block !important;position: relative;}#sk-container-id-1 div.sk-text-repr-fallback {display: none;}</style><div id=\"sk-container-id-1\" class=\"sk-top-container\"><div class=\"sk-text-repr-fallback\"><pre>RandomizedSearchCV(cv=3, estimator=RandomForestRegressor(), n_iter=150,\n                   n_jobs=-1,\n                   param_distributions={&#x27;criterion&#x27;: [&#x27;squared_error&#x27;,\n                                                      &#x27;absolute_error&#x27;,\n                                                      &#x27;friedman_mse&#x27;,\n                                                      &#x27;poisson&#x27;],\n                                        &#x27;max_depth&#x27;: [50, 100, 150, 200, 250,\n                                                      300, 350, 400, 450, 500,\n                                                      None],\n                                        &#x27;max_features&#x27;: [1, 14, 27, 40],\n                                        &#x27;min_samples_leaf&#x27;: [5, 10, 15],\n                                        &#x27;min_samples_split&#x27;: [10, 20, 30],\n                                        &#x27;n_estimators&#x27;: [100, 200, 300, 400,\n                                                         500, 600, 700, 800,\n                                                         900, 1000, 1100, 1200,\n                                                         1300, 1400, 1500]},\n                   random_state=42, verbose=1)</pre><b>In a Jupyter environment, please rerun this cell to show the HTML representation or trust the notebook. <br />On GitHub, the HTML representation is unable to render, please try loading this page with nbviewer.org.</b></div><div class=\"sk-container\" hidden><div class=\"sk-item sk-dashed-wrapped\"><div class=\"sk-label-container\"><div class=\"sk-label sk-toggleable\"><input class=\"sk-toggleable__control sk-hidden--visually\" id=\"sk-estimator-id-1\" type=\"checkbox\" ><label for=\"sk-estimator-id-1\" class=\"sk-toggleable__label sk-toggleable__label-arrow\">RandomizedSearchCV</label><div class=\"sk-toggleable__content\"><pre>RandomizedSearchCV(cv=3, estimator=RandomForestRegressor(), n_iter=150,\n                   n_jobs=-1,\n                   param_distributions={&#x27;criterion&#x27;: [&#x27;squared_error&#x27;,\n                                                      &#x27;absolute_error&#x27;,\n                                                      &#x27;friedman_mse&#x27;,\n                                                      &#x27;poisson&#x27;],\n                                        &#x27;max_depth&#x27;: [50, 100, 150, 200, 250,\n                                                      300, 350, 400, 450, 500,\n                                                      None],\n                                        &#x27;max_features&#x27;: [1, 14, 27, 40],\n                                        &#x27;min_samples_leaf&#x27;: [5, 10, 15],\n                                        &#x27;min_samples_split&#x27;: [10, 20, 30],\n                                        &#x27;n_estimators&#x27;: [100, 200, 300, 400,\n                                                         500, 600, 700, 800,\n                                                         900, 1000, 1100, 1200,\n                                                         1300, 1400, 1500]},\n                   random_state=42, verbose=1)</pre></div></div></div><div class=\"sk-parallel\"><div class=\"sk-parallel-item\"><div class=\"sk-item\"><div class=\"sk-label-container\"><div class=\"sk-label sk-toggleable\"><input class=\"sk-toggleable__control sk-hidden--visually\" id=\"sk-estimator-id-2\" type=\"checkbox\" ><label for=\"sk-estimator-id-2\" class=\"sk-toggleable__label sk-toggleable__label-arrow\">estimator: RandomForestRegressor</label><div class=\"sk-toggleable__content\"><pre>RandomForestRegressor()</pre></div></div></div><div class=\"sk-serial\"><div class=\"sk-item\"><div class=\"sk-estimator sk-toggleable\"><input class=\"sk-toggleable__control sk-hidden--visually\" id=\"sk-estimator-id-3\" type=\"checkbox\" ><label for=\"sk-estimator-id-3\" class=\"sk-toggleable__label sk-toggleable__label-arrow\">RandomForestRegressor</label><div class=\"sk-toggleable__content\"><pre>RandomForestRegressor()</pre></div></div></div></div></div></div></div></div></div></div>"
     },
     "execution_count": 8,
     "metadata": {},
     "output_type": "execute_result"
    }
   ],
   "source": [
    "rf = RandomForestRegressor()\n",
    "rf_ran = RandomizedSearchCV(estimator = rf, param_distributions = random_grid, n_iter=150, cv=3, verbose=1, random_state=42, n_jobs=-1)\n",
    "rf_ran.fit(X_values, y_values)"
   ],
   "metadata": {
    "collapsed": false
   }
  },
  {
   "cell_type": "code",
   "execution_count": 10,
   "outputs": [
    {
     "data": {
      "text/plain": "{'n_estimators': 600,\n 'min_samples_split': 30,\n 'min_samples_leaf': 5,\n 'max_features': 40,\n 'max_depth': 350,\n 'criterion': 'poisson'}"
     },
     "execution_count": 10,
     "metadata": {},
     "output_type": "execute_result"
    }
   ],
   "source": [
    "# show best param combination\n",
    "rf_ran.best_params_"
   ],
   "metadata": {
    "collapsed": false
   }
  },
  {
   "cell_type": "code",
   "execution_count": 11,
   "outputs": [],
   "source": [
    "def get_accuracy(model, X_test, y_test):\n",
    "    predictions = model.predict(X_test)\n",
    "    errors = abs(predictions - y_test)\n",
    "    avg_perf_error = 100 * np.mean(errors / y_test)\n",
    "    accuracy = 100 - avg_perf_error\n",
    "\n",
    "    print('Average Error: {:0.4f}'.format(np.mean(errors)))\n",
    "    print('Accuracy = {:0.2f}%.'.format(accuracy))\n",
    "    return accuracy"
   ],
   "metadata": {
    "collapsed": false
   }
  },
  {
   "cell_type": "code",
   "execution_count": 13,
   "outputs": [
    {
     "name": "stdout",
     "output_type": "stream",
     "text": [
      "Average Error: 6.5237\n",
      "Accuracy = 93.85%.\n",
      "Average Error: 5.7524\n",
      "Accuracy = 94.62%.\n",
      "Improvement: 0.82%.\n"
     ]
    }
   ],
   "source": [
    "# check performance on basic model against tuned model\n",
    "orig = RandomForestRegressor(random_state = 42)\n",
    "orig.fit(X_values, y_values)\n",
    "orig_accuracy = get_accuracy(orig, X_test, y_test)\n",
    "\n",
    "tuned = rf_ran.best_estimator_\n",
    "tuned_accuracy = get_accuracy(tuned, X_test, y_test)\n",
    "\n",
    "print('Improvement: {:0.2f}%.'.format( 100 * (tuned_accuracy - orig_accuracy) / orig_accuracy))"
   ],
   "metadata": {
    "collapsed": false
   }
  },
  {
   "cell_type": "markdown",
   "source": [
    "###### Fine tuning with GridSearchCV:"
   ],
   "metadata": {
    "collapsed": false
   }
  },
  {
   "cell_type": "code",
   "execution_count": 14,
   "outputs": [
    {
     "name": "stdout",
     "output_type": "stream",
     "text": [
      "Fitting 3 folds for each of 108 candidates, totalling 324 fits\n"
     ]
    },
    {
     "data": {
      "text/plain": "GridSearchCV(cv=3, estimator=RandomForestRegressor(),\n             param_grid={'criterion': ['poisson'],\n                         'max_depth': [300, 350, 400, None],\n                         'max_features': [30, 40, 50],\n                         'min_samples_leaf': [3, 5, 7],\n                         'min_samples_split': [30],\n                         'n_estimators': [500, 600, 700]},\n             verbose=1)",
      "text/html": "<style>#sk-container-id-2 {color: black;background-color: white;}#sk-container-id-2 pre{padding: 0;}#sk-container-id-2 div.sk-toggleable {background-color: white;}#sk-container-id-2 label.sk-toggleable__label {cursor: pointer;display: block;width: 100%;margin-bottom: 0;padding: 0.3em;box-sizing: border-box;text-align: center;}#sk-container-id-2 label.sk-toggleable__label-arrow:before {content: \"▸\";float: left;margin-right: 0.25em;color: #696969;}#sk-container-id-2 label.sk-toggleable__label-arrow:hover:before {color: black;}#sk-container-id-2 div.sk-estimator:hover label.sk-toggleable__label-arrow:before {color: black;}#sk-container-id-2 div.sk-toggleable__content {max-height: 0;max-width: 0;overflow: hidden;text-align: left;background-color: #f0f8ff;}#sk-container-id-2 div.sk-toggleable__content pre {margin: 0.2em;color: black;border-radius: 0.25em;background-color: #f0f8ff;}#sk-container-id-2 input.sk-toggleable__control:checked~div.sk-toggleable__content {max-height: 200px;max-width: 100%;overflow: auto;}#sk-container-id-2 input.sk-toggleable__control:checked~label.sk-toggleable__label-arrow:before {content: \"▾\";}#sk-container-id-2 div.sk-estimator input.sk-toggleable__control:checked~label.sk-toggleable__label {background-color: #d4ebff;}#sk-container-id-2 div.sk-label input.sk-toggleable__control:checked~label.sk-toggleable__label {background-color: #d4ebff;}#sk-container-id-2 input.sk-hidden--visually {border: 0;clip: rect(1px 1px 1px 1px);clip: rect(1px, 1px, 1px, 1px);height: 1px;margin: -1px;overflow: hidden;padding: 0;position: absolute;width: 1px;}#sk-container-id-2 div.sk-estimator {font-family: monospace;background-color: #f0f8ff;border: 1px dotted black;border-radius: 0.25em;box-sizing: border-box;margin-bottom: 0.5em;}#sk-container-id-2 div.sk-estimator:hover {background-color: #d4ebff;}#sk-container-id-2 div.sk-parallel-item::after {content: \"\";width: 100%;border-bottom: 1px solid gray;flex-grow: 1;}#sk-container-id-2 div.sk-label:hover label.sk-toggleable__label {background-color: #d4ebff;}#sk-container-id-2 div.sk-serial::before {content: \"\";position: absolute;border-left: 1px solid gray;box-sizing: border-box;top: 0;bottom: 0;left: 50%;z-index: 0;}#sk-container-id-2 div.sk-serial {display: flex;flex-direction: column;align-items: center;background-color: white;padding-right: 0.2em;padding-left: 0.2em;position: relative;}#sk-container-id-2 div.sk-item {position: relative;z-index: 1;}#sk-container-id-2 div.sk-parallel {display: flex;align-items: stretch;justify-content: center;background-color: white;position: relative;}#sk-container-id-2 div.sk-item::before, #sk-container-id-2 div.sk-parallel-item::before {content: \"\";position: absolute;border-left: 1px solid gray;box-sizing: border-box;top: 0;bottom: 0;left: 50%;z-index: -1;}#sk-container-id-2 div.sk-parallel-item {display: flex;flex-direction: column;z-index: 1;position: relative;background-color: white;}#sk-container-id-2 div.sk-parallel-item:first-child::after {align-self: flex-end;width: 50%;}#sk-container-id-2 div.sk-parallel-item:last-child::after {align-self: flex-start;width: 50%;}#sk-container-id-2 div.sk-parallel-item:only-child::after {width: 0;}#sk-container-id-2 div.sk-dashed-wrapped {border: 1px dashed gray;margin: 0 0.4em 0.5em 0.4em;box-sizing: border-box;padding-bottom: 0.4em;background-color: white;}#sk-container-id-2 div.sk-label label {font-family: monospace;font-weight: bold;display: inline-block;line-height: 1.2em;}#sk-container-id-2 div.sk-label-container {text-align: center;}#sk-container-id-2 div.sk-container {/* jupyter's `normalize.less` sets `[hidden] { display: none; }` but bootstrap.min.css set `[hidden] { display: none !important; }` so we also need the `!important` here to be able to override the default hidden behavior on the sphinx rendered scikit-learn.org. See: https://github.com/scikit-learn/scikit-learn/issues/21755 */display: inline-block !important;position: relative;}#sk-container-id-2 div.sk-text-repr-fallback {display: none;}</style><div id=\"sk-container-id-2\" class=\"sk-top-container\"><div class=\"sk-text-repr-fallback\"><pre>GridSearchCV(cv=3, estimator=RandomForestRegressor(),\n             param_grid={&#x27;criterion&#x27;: [&#x27;poisson&#x27;],\n                         &#x27;max_depth&#x27;: [300, 350, 400, None],\n                         &#x27;max_features&#x27;: [30, 40, 50],\n                         &#x27;min_samples_leaf&#x27;: [3, 5, 7],\n                         &#x27;min_samples_split&#x27;: [30],\n                         &#x27;n_estimators&#x27;: [500, 600, 700]},\n             verbose=1)</pre><b>In a Jupyter environment, please rerun this cell to show the HTML representation or trust the notebook. <br />On GitHub, the HTML representation is unable to render, please try loading this page with nbviewer.org.</b></div><div class=\"sk-container\" hidden><div class=\"sk-item sk-dashed-wrapped\"><div class=\"sk-label-container\"><div class=\"sk-label sk-toggleable\"><input class=\"sk-toggleable__control sk-hidden--visually\" id=\"sk-estimator-id-4\" type=\"checkbox\" ><label for=\"sk-estimator-id-4\" class=\"sk-toggleable__label sk-toggleable__label-arrow\">GridSearchCV</label><div class=\"sk-toggleable__content\"><pre>GridSearchCV(cv=3, estimator=RandomForestRegressor(),\n             param_grid={&#x27;criterion&#x27;: [&#x27;poisson&#x27;],\n                         &#x27;max_depth&#x27;: [300, 350, 400, None],\n                         &#x27;max_features&#x27;: [30, 40, 50],\n                         &#x27;min_samples_leaf&#x27;: [3, 5, 7],\n                         &#x27;min_samples_split&#x27;: [30],\n                         &#x27;n_estimators&#x27;: [500, 600, 700]},\n             verbose=1)</pre></div></div></div><div class=\"sk-parallel\"><div class=\"sk-parallel-item\"><div class=\"sk-item\"><div class=\"sk-label-container\"><div class=\"sk-label sk-toggleable\"><input class=\"sk-toggleable__control sk-hidden--visually\" id=\"sk-estimator-id-5\" type=\"checkbox\" ><label for=\"sk-estimator-id-5\" class=\"sk-toggleable__label sk-toggleable__label-arrow\">estimator: RandomForestRegressor</label><div class=\"sk-toggleable__content\"><pre>RandomForestRegressor()</pre></div></div></div><div class=\"sk-serial\"><div class=\"sk-item\"><div class=\"sk-estimator sk-toggleable\"><input class=\"sk-toggleable__control sk-hidden--visually\" id=\"sk-estimator-id-6\" type=\"checkbox\" ><label for=\"sk-estimator-id-6\" class=\"sk-toggleable__label sk-toggleable__label-arrow\">RandomForestRegressor</label><div class=\"sk-toggleable__content\"><pre>RandomForestRegressor()</pre></div></div></div></div></div></div></div></div></div></div>"
     },
     "execution_count": 14,
     "metadata": {},
     "output_type": "execute_result"
    }
   ],
   "source": [
    "from sklearn.model_selection import GridSearchCV\n",
    "\n",
    "grid = {'n_estimators': [500, 600, 700],\n",
    "        'criterion': ['poisson'],\n",
    "        'max_depth': [300, 350, 400, None],\n",
    "        'min_samples_split': [30],\n",
    "        'min_samples_leaf': [3, 5, 7],\n",
    "        'max_features': [30, 40, 50]}\n",
    "\n",
    "rf = RandomForestRegressor()\n",
    "rf_grid = GridSearchCV(estimator=rf, param_grid=grid, cv=3, verbose=1)\n",
    "rf_grid.fit(X_values, y_values)"
   ],
   "metadata": {
    "collapsed": false
   }
  },
  {
   "cell_type": "code",
   "execution_count": 15,
   "outputs": [
    {
     "data": {
      "text/plain": "{'criterion': 'poisson',\n 'max_depth': None,\n 'max_features': 50,\n 'min_samples_leaf': 5,\n 'min_samples_split': 30,\n 'n_estimators': 600}"
     },
     "execution_count": 15,
     "metadata": {},
     "output_type": "execute_result"
    }
   ],
   "source": [
    "rf_grid.best_params_"
   ],
   "metadata": {
    "collapsed": false
   }
  },
  {
   "cell_type": "code",
   "execution_count": 16,
   "outputs": [
    {
     "name": "stdout",
     "output_type": "stream",
     "text": [
      "Average Error: 5.7524\n",
      "Accuracy = 94.62%.\n",
      "Improvement: 0.00%.\n"
     ]
    }
   ],
   "source": [
    "# check performance on grid-tuned model against random-tuned model\n",
    "best_grid_rf = rf_ran.best_estimator_\n",
    "grid_accuracy = get_accuracy(best_grid_rf, X_test, y_test)\n",
    "\n",
    "print('Improvement: {:0.2f}%.'.format( 100 * (grid_accuracy - tuned_accuracy) / tuned_accuracy))"
   ],
   "metadata": {
    "collapsed": false
   }
  },
  {
   "cell_type": "code",
   "execution_count": null,
   "outputs": [],
   "source": [
    "# no significant improvement: params to be used:\n",
    "# {'criterion': 'poisson',\n",
    "#  'max_depth': None,\n",
    "#  'max_features': 50,\n",
    "#  'min_samples_leaf': 5,\n",
    "#  'min_samples_split': 30,\n",
    "#  'n_estimators': 600}"
   ],
   "metadata": {
    "collapsed": false
   }
  }
 ],
 "metadata": {
  "kernelspec": {
   "display_name": "Python 3",
   "language": "python",
   "name": "python3"
  },
  "language_info": {
   "codemirror_mode": {
    "name": "ipython",
    "version": 2
   },
   "file_extension": ".py",
   "mimetype": "text/x-python",
   "name": "python",
   "nbconvert_exporter": "python",
   "pygments_lexer": "ipython2",
   "version": "2.7.6"
  }
 },
 "nbformat": 4,
 "nbformat_minor": 0
}
