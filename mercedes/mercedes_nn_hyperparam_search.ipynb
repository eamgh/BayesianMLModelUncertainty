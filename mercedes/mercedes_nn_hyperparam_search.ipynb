{
 "cells": [
  {
   "cell_type": "code",
   "execution_count": 2,
   "outputs": [],
   "source": [
    "import pandas as pd\n",
    "import numpy as np"
   ],
   "metadata": {
    "collapsed": false
   }
  },
  {
   "cell_type": "code",
   "execution_count": 11,
   "outputs": [
    {
     "name": "stderr",
     "output_type": "stream",
     "text": [
      "C:\\Users\\elsag\\OneDrive\\Desktop\\Uni\\Year 4\\Academic\\Dissertation\\Final Report\\Code\\scikit-learn-1.2.1\\scikit-learn-1.2.1\\venv\\lib\\site-packages\\openml\\datasets\\functions.py:438: FutureWarning: Starting from Version 0.15 `download_data`, `download_qualities`, and `download_features_meta_data` will all be ``False`` instead of ``True`` by default to enable lazy loading. To disable this message until version 0.15 explicitly set `download_data`, `download_qualities`, and `download_features_meta_data` to a bool while calling `get_dataset`.\n",
      "  warnings.warn(\n"
     ]
    }
   ],
   "source": [
    "# import dataset\n",
    "import openml\n",
    "\n",
    "dataset = openml.datasets.get_dataset(44061)\n",
    "X, y, _, attribute_names = dataset.get_data(target=dataset.default_target_attribute)"
   ],
   "metadata": {
    "collapsed": false
   }
  },
  {
   "cell_type": "code",
   "execution_count": 12,
   "outputs": [],
   "source": [
    "X = X.astype(float)\n",
    "y = y.astype(float)"
   ],
   "metadata": {
    "collapsed": false
   }
  },
  {
   "cell_type": "code",
   "execution_count": 13,
   "outputs": [],
   "source": [
    "columns_to_encode = ['X3', 'X4', 'X6']\n",
    "X = pd.get_dummies(X, columns=columns_to_encode)"
   ],
   "metadata": {
    "collapsed": false
   }
  },
  {
   "cell_type": "code",
   "execution_count": 14,
   "outputs": [
    {
     "name": "stdout",
     "output_type": "stream",
     "text": [
      "(4209, 379)\n"
     ]
    }
   ],
   "source": [
    "# split dataset, split again to reduce number of samples used in tuning\n",
    "from sklearn.model_selection import train_test_split\n",
    "X_train, X_test, y_train, y_test = train_test_split(X, y, test_size=0.3, random_state=42)\n",
    "X_values = X_train.head(400)\n",
    "y_values = y_train.head(400)\n",
    "print(X.shape)"
   ],
   "metadata": {
    "collapsed": false
   }
  },
  {
   "cell_type": "code",
   "execution_count": 15,
   "outputs": [],
   "source": [
    "from sklearn.model_selection import RandomizedSearchCV\n",
    "from sklearn.neural_network import MLPRegressor"
   ],
   "metadata": {
    "collapsed": false
   }
  },
  {
   "cell_type": "code",
   "execution_count": 6,
   "outputs": [],
   "source": [
    "param_grid = {'hidden_layer_sizes': [(379,150,379,200), (450,379,150), (379, 650, 379, 379), (450, 150, 379, 150), (379, 379, 379), (150, 650, 379), (450, 150, 379, 150, 200)],\n",
    "              'activation': ['relu','tanh','logistic'],\n",
    "              'alpha': [0.0001, 0.001, 0.01],\n",
    "              'solver': ['adam'],\n",
    "              'max_iter': [500]}"
   ],
   "metadata": {
    "collapsed": false
   }
  },
  {
   "cell_type": "code",
   "execution_count": 7,
   "outputs": [
    {
     "name": "stderr",
     "output_type": "stream",
     "text": [
      "C:\\Users\\elsag\\OneDrive\\Desktop\\Uni\\Year 4\\Academic\\Dissertation\\Final Report\\Code\\scikit-learn-1.2.1\\scikit-learn-1.2.1\\sklearn\\model_selection\\_search.py:952: UserWarning: One or more of the test scores are non-finite: [nan nan nan nan nan nan nan nan nan nan]\n",
      "  warnings.warn(\n",
      "C:\\Users\\elsag\\OneDrive\\Desktop\\Uni\\Year 4\\Academic\\Dissertation\\Final Report\\Code\\scikit-learn-1.2.1\\scikit-learn-1.2.1\\sklearn\\neural_network\\_multilayer_perceptron.py:684: ConvergenceWarning: Stochastic Optimizer: Maximum iterations (500) reached and the optimization hasn't converged yet.\n",
      "  warnings.warn(\n"
     ]
    }
   ],
   "source": [
    "nn = MLPRegressor()\n",
    "random_grid = RandomizedSearchCV(nn, param_grid, cv=3, scoring='neg_mean_squared_error', n_jobs=-1)\n",
    "nn_random = random_grid.fit(X_values, y_values)"
   ],
   "metadata": {
    "collapsed": false
   }
  },
  {
   "cell_type": "code",
   "execution_count": 8,
   "outputs": [
    {
     "data": {
      "text/plain": "{'solver': 'adam',\n 'max_iter': 500,\n 'hidden_layer_sizes': (379, 150, 379, 200),\n 'alpha': 0.0001,\n 'activation': 'tanh'}"
     },
     "execution_count": 8,
     "metadata": {},
     "output_type": "execute_result"
    }
   ],
   "source": [
    "# show best param combination\n",
    "nn_random.best_params_"
   ],
   "metadata": {
    "collapsed": false
   }
  },
  {
   "cell_type": "markdown",
   "source": [],
   "metadata": {
    "collapsed": false
   }
  },
  {
   "cell_type": "code",
   "execution_count": 9,
   "outputs": [],
   "source": [
    "def get_accuracy(model, X_test, y_test):\n",
    "    predictions = model.predict(X_test)\n",
    "    errors = abs(predictions - y_test)\n",
    "    avg_perf_error = 100 * np.mean(errors / y_test)\n",
    "    accuracy = 100 - avg_perf_error\n",
    "\n",
    "    print('Average Error: {:0.4f}'.format(np.mean(errors)))\n",
    "    print('Accuracy = {:0.2f}%.'.format(accuracy))\n",
    "    return accuracy"
   ],
   "metadata": {
    "collapsed": false
   }
  },
  {
   "cell_type": "code",
   "execution_count": 82,
   "outputs": [
    {
     "name": "stderr",
     "output_type": "stream",
     "text": [
      "C:\\Users\\elsag\\OneDrive\\Desktop\\Uni\\Year 4\\Academic\\Dissertation\\Final Report\\Code\\scikit-learn-1.2.1\\scikit-learn-1.2.1\\sklearn\\neural_network\\_multilayer_perceptron.py:684: ConvergenceWarning: Stochastic Optimizer: Maximum iterations (200) reached and the optimization hasn't converged yet.\n",
      "  warnings.warn(\n"
     ]
    },
    {
     "name": "stdout",
     "output_type": "stream",
     "text": [
      "Average Error: 8.9942\n",
      "Accuracy = 91.31%.\n",
      "Average Error: 29.9038\n",
      "Accuracy = 71.53%.\n",
      "Improvement: -21.66%.\n"
     ]
    }
   ],
   "source": [
    "tuned = nn_random.best_estimator_\n",
    "tuned_accuracy = get_accuracy(tuned, X_test.apply(pd.to_numeric), y_test)\n",
    "\n",
    "print('Improvement: {:0.2f}%.'.format( 100 * (tuned_accuracy - orig_accuracy) / orig_accuracy))"
   ],
   "metadata": {
    "collapsed": false
   }
  },
  {
   "cell_type": "code",
   "execution_count": 16,
   "outputs": [
    {
     "name": "stderr",
     "output_type": "stream",
     "text": [
      "C:\\Users\\elsag\\OneDrive\\Desktop\\Uni\\Year 4\\Academic\\Dissertation\\Final Report\\Code\\scikit-learn-1.2.1\\scikit-learn-1.2.1\\sklearn\\model_selection\\_search.py:952: UserWarning: One or more of the test scores are non-finite: [nan nan nan nan nan nan nan nan nan nan]\n",
      "  warnings.warn(\n",
      "C:\\Users\\elsag\\OneDrive\\Desktop\\Uni\\Year 4\\Academic\\Dissertation\\Final Report\\Code\\scikit-learn-1.2.1\\scikit-learn-1.2.1\\sklearn\\neural_network\\_multilayer_perceptron.py:684: ConvergenceWarning: Stochastic Optimizer: Maximum iterations (500) reached and the optimization hasn't converged yet.\n",
      "  warnings.warn(\n"
     ]
    }
   ],
   "source": [
    "from sklearn.model_selection import GridSearchCV"
   ],
   "metadata": {
    "collapsed": false
   }
  },
  {
   "cell_type": "code",
   "execution_count": 89,
   "outputs": [
    {
     "name": "stderr",
     "output_type": "stream",
     "text": [
      "C:\\Users\\elsag\\OneDrive\\Desktop\\Uni\\Year 4\\Academic\\Dissertation\\Final Report\\Code\\scikit-learn-1.2.1\\scikit-learn-1.2.1\\sklearn\\model_selection\\_search.py:952: UserWarning: One or more of the test scores are non-finite: [nan nan nan nan nan nan nan nan nan nan nan nan nan nan nan nan nan nan\n",
      " nan nan nan nan nan nan nan nan nan nan nan nan nan nan nan nan nan nan]\n",
      "  warnings.warn(\n",
      "C:\\Users\\elsag\\OneDrive\\Desktop\\Uni\\Year 4\\Academic\\Dissertation\\Final Report\\Code\\scikit-learn-1.2.1\\scikit-learn-1.2.1\\sklearn\\neural_network\\_multilayer_perceptron.py:684: ConvergenceWarning: Stochastic Optimizer: Maximum iterations (500) reached and the optimization hasn't converged yet.\n",
      "  warnings.warn(\n"
     ]
    }
   ],
   "source": [
    "grid = {'solver': ['adam'],\n",
    "        'max_iter': [500],\n",
    "        'hidden_layer_sizes': [(100, 150, 100), (50, 100, 50, 100, 50), (100, 70, 100, 50), (100, 60), (50, 100), (100, 50, 100)],\n",
    "        'alpha': [0.0001, 0.001],\n",
    "        'activation': ['relu', 'logistic', 'tanh']}\n",
    "\n",
    "nn = MLPRegressor()\n",
    "grid = GridSearchCV(nn, grid, cv=3, scoring='neg_mean_squared_error', n_jobs=-1)\n",
    "nn_grid = grid.fit(X_values, y_values)"
   ],
   "metadata": {
    "collapsed": false
   }
  },
  {
   "cell_type": "code",
   "execution_count": 90,
   "outputs": [
    {
     "data": {
      "text/plain": "{'activation': 'relu',\n 'alpha': 0.0001,\n 'hidden_layer_sizes': (100, 150, 100),\n 'max_iter': 500,\n 'solver': 'adam'}"
     },
     "execution_count": 90,
     "metadata": {},
     "output_type": "execute_result"
    }
   ],
   "source": [
    "nn_grid.best_params_"
   ],
   "metadata": {
    "collapsed": false
   }
  },
  {
   "cell_type": "code",
   "execution_count": 92,
   "outputs": [
    {
     "name": "stdout",
     "output_type": "stream",
     "text": [
      "Average Error: 9.6977\n",
      "Accuracy = 90.68%.\n"
     ]
    },
    {
     "data": {
      "text/plain": "90.67773314869325"
     },
     "execution_count": 92,
     "metadata": {},
     "output_type": "execute_result"
    }
   ],
   "source": [
    "best_grid_nn = nn_grid.best_estimator_\n",
    "grid_accuracy = get_accuracy(best_grid_nn, X_test.apply(pd.to_numeric), y_test)\n",
    "grid_accuracy"
   ],
   "metadata": {
    "collapsed": false
   }
  },
  {
   "cell_type": "code",
   "execution_count": null,
   "outputs": [],
   "source": [
    "# {'activation': 'relu',\n",
    "#  'alpha': 0.0001,\n",
    "#  'hidden_layer_sizes': (100, 150, 100),\n",
    "#  'max_iter': 500,\n",
    "#  'solver': 'adam'}"
   ],
   "metadata": {
    "collapsed": false
   }
  }
 ],
 "metadata": {
  "kernelspec": {
   "display_name": "Python 3",
   "language": "python",
   "name": "python3"
  },
  "language_info": {
   "codemirror_mode": {
    "name": "ipython",
    "version": 2
   },
   "file_extension": ".py",
   "mimetype": "text/x-python",
   "name": "python",
   "nbconvert_exporter": "python",
   "pygments_lexer": "ipython2",
   "version": "2.7.6"
  }
 },
 "nbformat": 4,
 "nbformat_minor": 0
}
