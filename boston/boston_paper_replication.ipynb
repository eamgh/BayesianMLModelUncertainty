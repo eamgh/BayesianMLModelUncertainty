{
 "cells": [
  {
   "cell_type": "code",
   "execution_count": 1,
   "metadata": {
    "collapsed": true
   },
   "outputs": [],
   "source": [
    "import numpy as np\n",
    "import pandas as pd"
   ]
  },
  {
   "cell_type": "code",
   "execution_count": 2,
   "outputs": [],
   "source": [
    "data_url = \"http://lib.stat.cmu.edu/datasets/boston\"\n",
    "raw_df = pd.read_csv(data_url, sep=\"\\s+\", skiprows=22, header=None)\n",
    "X = np.hstack([raw_df.values[::2, :], raw_df.values[1::2, :2]])\n",
    "y = raw_df.values[1::2, 2]"
   ],
   "metadata": {
    "collapsed": false
   }
  },
  {
   "cell_type": "code",
   "execution_count": 3,
   "outputs": [],
   "source": [
    "from sklearn.model_selection import train_test_split\n",
    "X, X_test, y, y_test = train_test_split(X, y, test_size=0.3, random_state=42)"
   ],
   "metadata": {
    "collapsed": false
   }
  },
  {
   "cell_type": "markdown",
   "source": [
    "## 1. Efron's bootstrap"
   ],
   "metadata": {
    "collapsed": false
   }
  },
  {
   "cell_type": "code",
   "execution_count": 4,
   "outputs": [],
   "source": [
    "from sklearn.ensemble import RandomForestRegressor\n",
    "from sklearn.model_selection import KFold\n",
    "from sklearn.metrics import mean_squared_error, mean_absolute_error, r2_score\n",
    "kf = KFold(n_splits=10, shuffle=True)"
   ],
   "metadata": {
    "collapsed": false
   }
  },
  {
   "cell_type": "code",
   "execution_count": 5,
   "outputs": [
    {
     "name": "stdout",
     "output_type": "stream",
     "text": [
      "36\n",
      "36\n",
      "36\n",
      "36\n",
      "35\n",
      "35\n",
      "35\n",
      "35\n",
      "35\n",
      "35\n"
     ]
    }
   ],
   "source": [
    "for (train, test), i in zip(kf.split(X, y), range(kf.n_splits)):\n",
    "    print(len(test))"
   ],
   "metadata": {
    "collapsed": false
   }
  },
  {
   "cell_type": "code",
   "execution_count": 6,
   "outputs": [],
   "source": [
    "def rubin():\n",
    "    # results - [fold[prediction[y_hat, y]]]\n",
    "    results = np.empty((kf.n_splits, 36, 2))\n",
    "    forests = []\n",
    "\n",
    "    for (train, test), i in zip(kf.split(X, y), range(kf.n_splits)):\n",
    "        rf = RandomForestRegressor(criterion='absolute_error', max_depth=15, max_features=1, min_samples_split=1, n_estimators=1100, random_state=42).fit(X[train], y[train])\n",
    "        forests.append(rf)\n",
    "\n",
    "        for j, covars in enumerate(X[test]):\n",
    "            results[i][j][0] = rf.predict(covars.reshape(1, -1))[0]\n",
    "            results[i][j][1] = y[test][j]\n",
    "\n",
    "    return results, forests"
   ],
   "metadata": {
    "collapsed": false
   }
  },
  {
   "cell_type": "code",
   "execution_count": 12,
   "outputs": [],
   "source": [
    "def get_rubin_scores(results):\n",
    "    # get MSE, MAE, r2\n",
    "    scores = np.empty((10, 3))\n",
    "    for i in range(0, 10):\n",
    "\n",
    "        # exclude last number in array if evaluating folds 5-10\n",
    "        if i >= 4:\n",
    "            means = results[i, :-1, 0]\n",
    "            targets = results[i, :-1, 1]\n",
    "        else:\n",
    "            means = results[i, :, 0]\n",
    "            targets = results[i, :, 1]\n",
    "\n",
    "        scores[i][0] = mean_squared_error(targets, means)\n",
    "        scores[i][1] = mean_absolute_error(targets, means)\n",
    "        scores[i][2] = r2_score(targets, means)\n",
    "\n",
    "    return scores"
   ],
   "metadata": {
    "collapsed": false
   }
  },
  {
   "cell_type": "code",
   "execution_count": 8,
   "outputs": [],
   "source": [
    "def write_rubin_results(results):\n",
    "    with open(\"boston_rf_efron_results.txt\", \"a\") as file:\n",
    "        file.write(\"WARNING: FOLDS 5-10 (INC.) ONLY HAVE 35 TRUE PREDICTIONS - IGNORE PREDICTION 36 \\n\")\n",
    "        for fold in results:\n",
    "            for prediction in fold:\n",
    "                for i, value in enumerate(prediction):\n",
    "                    file.write(str(value))\n",
    "\n",
    "                    if i != 1:\n",
    "                        file.write(\", \")\n",
    "                file.write(\"\\n\")\n",
    "            file.write(\"\\n\")"
   ],
   "metadata": {
    "collapsed": false
   }
  },
  {
   "cell_type": "code",
   "execution_count": 9,
   "outputs": [],
   "source": [
    "def write_rubin_scores(scores):\n",
    "    with open(\"boston_rf_efron_scores.txt\", \"a\") as file:\n",
    "        file.write(\"WARNING: FOLDS 5-10 (INC.) ONLY HAVE 35 TRUE PREDICTIONS - IGNORE PREDICTION 36 \\n\")\n",
    "        for score_array in scores:\n",
    "            for i, score in enumerate(score_array):\n",
    "                file.write(str(score))\n",
    "\n",
    "                if i != 2:\n",
    "                    file.write(\", \")\n",
    "            file.write(\"\\n\")"
   ],
   "metadata": {
    "collapsed": false
   }
  },
  {
   "cell_type": "code",
   "execution_count": 15,
   "outputs": [],
   "source": [
    "def validation_rubin(forest_model, v_X, v_y):\n",
    "    # results - [prediction[y_hat, y]]\n",
    "    results = np.empty((len(v_y), 2))\n",
    "\n",
    "    for i, covars in enumerate(v_X):\n",
    "         results[i][0] = forest_model.predict(covars.reshape(1, -1))[0]\n",
    "         results[i][1] = v_y[i]\n",
    "\n",
    "    scores = np.empty(3)\n",
    "    means = results[:, 0]\n",
    "\n",
    "    scores[0] = mean_squared_error(v_y, means)\n",
    "    scores[1] = mean_absolute_error(v_y, means)\n",
    "    scores[2] = r2_score(v_y, means)\n",
    "\n",
    "    return results, scores"
   ],
   "metadata": {
    "collapsed": false
   }
  },
  {
   "cell_type": "markdown",
   "source": [
    "repeated 10 times:"
   ],
   "metadata": {
    "collapsed": false
   }
  },
  {
   "cell_type": "code",
   "execution_count": 34,
   "outputs": [
    {
     "name": "stdout",
     "output_type": "stream",
     "text": [
      "[[ 7.85290119  1.95821212  0.86310243]\n",
      " [16.91560263  2.38084722  0.77428075]\n",
      " [16.56968812  3.03310227  0.82583832]\n",
      " [17.42240375  2.84957955  0.80707405]\n",
      " [39.46714758  3.41345325  0.59772383]\n",
      " [17.43036994  3.19532208  0.74790531]\n",
      " [ 9.7641902   2.39231948  0.82513373]\n",
      " [15.33735261  2.6507039   0.83728315]\n",
      " [13.89333502  2.56317922  0.87494693]\n",
      " [19.97418803  3.11744935  0.80997661]]\n"
     ]
    }
   ],
   "source": [
    "results, forests = rubin()\n",
    "scores = get_rubin_scores(results)\n",
    "write_rubin_results(results)\n",
    "write_rubin_scores(scores)\n",
    "print(scores)"
   ],
   "metadata": {
    "collapsed": false
   }
  },
  {
   "cell_type": "code",
   "execution_count": 35,
   "outputs": [],
   "source": [
    "vr, vs = validation_rubin(forests[0], X_test, y_test) # insert best model\n",
    "with open(\"boston_efron_validation_scores.txt\", \"a\") as file:\n",
    "    for i, score in enumerate(vs):\n",
    "        file.write(str(score))\n",
    "        if i != 2:\n",
    "            file.write(\", \")\n",
    "    file.write(\"\\n\")"
   ],
   "metadata": {
    "collapsed": false
   }
  },
  {
   "cell_type": "markdown",
   "source": [
    "## 2. Rubin's bootstrap"
   ],
   "metadata": {
    "collapsed": false
   }
  },
  {
   "cell_type": "code",
   "execution_count": 36,
   "outputs": [],
   "source": [
    "from uncertainty_analysis import bootstrap"
   ],
   "metadata": {
    "collapsed": false
   }
  },
  {
   "cell_type": "code",
   "execution_count": 37,
   "outputs": [],
   "source": [
    "n_rubin_samples = 1100"
   ],
   "metadata": {
    "collapsed": false
   }
  },
  {
   "cell_type": "code",
   "execution_count": 38,
   "outputs": [],
   "source": [
    "def bf():\n",
    "    # results - [fold[prediction[y_hat, b_mean, b_std, y]]]\n",
    "    results = np.empty((kf.n_splits, 36, 4))\n",
    "\n",
    "    forests = []\n",
    "\n",
    "    for (train, test), i in zip(kf.split(X, y), range(kf.n_splits)):\n",
    "        rf = RandomForestRegressor(criterion='absolute_error', max_depth=15, max_features=1, min_samples_split=1, n_estimators=1100, random_state=42).fit(X[train], y[train])\n",
    "        forests.append(rf)\n",
    "\n",
    "        # get prediction of each tree in RF\n",
    "        predictions = np.empty(rf.n_estimators)\n",
    "\n",
    "        for j, covars in enumerate(X[test]):\n",
    "            for k, tree in enumerate(rf.estimators_):\n",
    "                predictions[k] = tree.predict(covars.reshape(1, -1))[0]\n",
    "\n",
    "            bootstrapped_predictions = bootstrap.bayesian_bootstrap(predictions, n_rubin_samples)\n",
    "\n",
    "            results[i][j][0] = predictions.mean()\n",
    "            results[i][j][1] = np.mean(bootstrapped_predictions)\n",
    "            results[i][j][2] = np.std(bootstrapped_predictions)\n",
    "            results[i][j][3] = y[test][j]\n",
    "\n",
    "    return results, forests"
   ],
   "metadata": {
    "collapsed": false
   }
  },
  {
   "cell_type": "code",
   "execution_count": 48,
   "outputs": [],
   "source": [
    "def write_bf_results(results):\n",
    "    with open(\"boston_rf_rubin_raw_results.txt\", \"a\") as file:\n",
    "        file.write(\"WARNING: FOLDS 5-10 (INC.) ONLY HAVE 35 TRUE PREDICTIONS - IGNORE PREDICTION 36 \\n\")\n",
    "        for fold in results:\n",
    "            for prediction in fold:\n",
    "                for i, value in enumerate(prediction):\n",
    "                    file.write(str(value))\n",
    "\n",
    "                    if i != 3:\n",
    "                        file.write(\", \")\n",
    "                file.write(\"\\n\")\n",
    "            file.write(\"\\n\")"
   ],
   "metadata": {
    "collapsed": false
   }
  },
  {
   "cell_type": "code",
   "execution_count": 49,
   "outputs": [],
   "source": [
    "def write_bf_scores(scores):\n",
    "    with open(\"boston_rf_rubin_scores.txt\", \"a\") as file:\n",
    "        file.write(\"WARNING: FOLDS 5-10 (INC.) ONLY HAVE 35 TRUE PREDICTIONS - IGNORE PREDICTION 36 \\n\")\n",
    "        for score_array in scores:\n",
    "            for i, score in enumerate(score_array):\n",
    "                file.write(str(score))\n",
    "\n",
    "                if i != 2:\n",
    "                    file.write(\", \")\n",
    "            file.write(\"\\n\")"
   ],
   "metadata": {
    "collapsed": false
   }
  },
  {
   "cell_type": "code",
   "execution_count": 42,
   "outputs": [],
   "source": [
    "def get_bf_scores(results):\n",
    "    # get MSE, MAE, r2\n",
    "    scores = np.empty((10, 3))\n",
    "    for i in range(0, 10):\n",
    "\n",
    "        # exclude last number in array if evaluating folds 5-10\n",
    "        if i >= 4:\n",
    "            means = results[i, :-1, 1]\n",
    "            targets = results[i, :-1, 3]\n",
    "        else:\n",
    "            means = results[i, :, 1]\n",
    "            targets = results[i, :, 3]\n",
    "\n",
    "        scores[i][0] = mean_squared_error(targets, means)\n",
    "        scores[i][1] = mean_absolute_error(targets, means)\n",
    "        scores[i][2] = r2_score(targets, means)\n",
    "\n",
    "    return scores"
   ],
   "metadata": {
    "collapsed": false
   }
  },
  {
   "cell_type": "code",
   "execution_count": 46,
   "outputs": [],
   "source": [
    "def validation_bf(forest_model, v_X, v_y, n_samples):\n",
    "     # results - [prediction[y_hat, b_mean, b_std, y]]\n",
    "    results = np.empty((len(v_y), 4))\n",
    "    predictions = np.empty(forest_model.n_estimators)\n",
    "\n",
    "    for i, covars in enumerate(v_X):\n",
    "        for j, tree in enumerate(forest_model.estimators_):\n",
    "            predictions[j] = tree.predict(covars.reshape(1, -1))[0]\n",
    "\n",
    "        bootstrapped_predictions = bootstrap.bayesian_bootstrap(predictions, n_samples)\n",
    "\n",
    "        results[i][0] = predictions.mean()\n",
    "        results[i][1] = np.mean(bootstrapped_predictions)\n",
    "        results[i][2] = np.std(bootstrapped_predictions)\n",
    "        results[i][3] = v_y[i]\n",
    "\n",
    "    scores = np.empty(3)\n",
    "    means = results[:, 0]\n",
    "\n",
    "    scores[0] = mean_squared_error(v_y, means)\n",
    "    scores[1] = mean_absolute_error(v_y, means)\n",
    "    scores[2] = r2_score(v_y, means)\n",
    "\n",
    "    return results, scores"
   ],
   "metadata": {
    "collapsed": false
   }
  },
  {
   "cell_type": "markdown",
   "source": [
    "repeated 10 times:"
   ],
   "metadata": {
    "collapsed": false
   }
  },
  {
   "cell_type": "code",
   "execution_count": 66,
   "outputs": [
    {
     "name": "stdout",
     "output_type": "stream",
     "text": [
      "[[15.26583666  2.72634036  0.82951388]\n",
      " [ 8.51861711  2.07215503  0.89388928]\n",
      " [ 9.7461105   2.49206666  0.8132262 ]\n",
      " [19.40184179  3.08107163  0.80438933]\n",
      " [16.81060616  2.87648823  0.83604872]\n",
      " [40.79218174  4.04525033  0.61995153]\n",
      " [ 8.6567737   2.08808261  0.88791818]\n",
      " [12.47479054  2.80760972  0.85283206]\n",
      " [35.58697706  3.50792136  0.67592493]\n",
      " [11.66438361  2.43829119  0.81356408]]\n"
     ]
    }
   ],
   "source": [
    "results, bf_forests = bf()\n",
    "scores = get_bf_scores(results)\n",
    "write_bf_results(results)\n",
    "write_bf_scores(scores)\n",
    "print(scores)"
   ],
   "metadata": {
    "collapsed": false
   }
  },
  {
   "cell_type": "code",
   "execution_count": 67,
   "outputs": [],
   "source": [
    "vr, vs = validation_bf(bf_forests[1], X_test, y_test, n_rubin_samples) # insert best model\n",
    "with open(\"boston_bf_validation_scores.txt\", \"a\") as file:\n",
    "    for i, score in enumerate(vs):\n",
    "        file.write(str(score))\n",
    "        if i != 2:\n",
    "            file.write(\", \")\n",
    "    file.write(\"\\n\")"
   ],
   "metadata": {
    "collapsed": false
   }
  },
  {
   "cell_type": "markdown",
   "source": [
    "## 3. Proper Bayesian Bootstrap (Galvani et al.)"
   ],
   "metadata": {
    "collapsed": false
   }
  },
  {
   "cell_type": "code",
   "execution_count": 78,
   "outputs": [],
   "source": [
    "from uncertainty_analysis import proper_bayesian_forest as pbf"
   ],
   "metadata": {
    "collapsed": false
   }
  },
  {
   "cell_type": "code",
   "execution_count": 69,
   "outputs": [],
   "source": [
    "# create prior distributions (in this case, uniform)\n",
    "def create_priors(X):\n",
    "    n_features = X.shape[1]\n",
    "    priors = np.empty(n_features, dtype=pbf.UniformPrior)\n",
    "    for i in range(0, n_features):\n",
    "        priors[i] = pbf.UniformPrior(X[:, i])\n",
    "\n",
    "    return priors"
   ],
   "metadata": {
    "collapsed": false
   }
  },
  {
   "cell_type": "code",
   "execution_count": 77,
   "outputs": [],
   "source": [
    "def proper_bf(k):\n",
    "    # create forest and train for each\n",
    "    results = np.empty((kf.n_splits, 36, 3)) # [fold[prediction[mean, std, y]]]\n",
    "\n",
    "    # store forests\n",
    "    forests = []\n",
    "\n",
    "    for (train, test), i in zip(kf.split(X, y), range(kf.n_splits)):\n",
    "        pbrgr = pbf.ProperBayesianForest(X[train], y[train],\n",
    "                                         create_priors(X[train]),\n",
    "                                         k_values=np.array([k]*X[train].shape[1], dtype=np.int32),\n",
    "                                         n_galvani_samples=1100,\n",
    "                                         criterion='friedman_mse', max_depth=15, max_features=1,\n",
    "                                         min_samples_split=1, n_estimators=1100, random_state=42)\n",
    "        pbrgr.fit()\n",
    "        forests.append(pbrgr)\n",
    "\n",
    "        for j, covars in enumerate(X[test]):\n",
    "            p = pbrgr.get_prediction_distribution(covars.reshape(1, -1),\n",
    "                                                   n_rubin_samples=n_rubin_samples)\n",
    "\n",
    "            results[i][j][0] = np.mean(p)\n",
    "            results[i][j][1] = np.std(p)\n",
    "            results[i][j][2] = y[test][j]\n",
    "\n",
    "    return results, forests"
   ],
   "metadata": {
    "collapsed": false
   }
  },
  {
   "cell_type": "code",
   "execution_count": 71,
   "outputs": [],
   "source": [
    "def get_pbf_scores(results):\n",
    "    # get MSE, MAE, r2\n",
    "    scores = np.empty((10, 3))\n",
    "    for i in range(0, 10):\n",
    "\n",
    "        # exclude last number in array if evaluating folds 5-10\n",
    "        if i >= 4:\n",
    "            means = results[i, :-1, 0]\n",
    "            targets = results[i, :-1, 2]\n",
    "        else:\n",
    "            means = results[i, :, 0]\n",
    "            targets = results[i, :, 2]\n",
    "\n",
    "        scores[i][0] = mean_squared_error(targets, means)\n",
    "        scores[i][1] = mean_absolute_error(targets, means)\n",
    "        scores[i][2] = r2_score(targets, means)\n",
    "\n",
    "    return scores"
   ],
   "metadata": {
    "collapsed": false
   }
  },
  {
   "cell_type": "code",
   "execution_count": 72,
   "outputs": [],
   "source": [
    "def write_pbf_results(results):\n",
    "    with open(\"boston_rf_pbf_raw_results.txt\", \"a\") as file:\n",
    "        file.write(\"WARNING: FOLDS 5-10 (INC.) ONLY HAVE 35 TRUE PREDICTIONS - IGNORE PREDICTION 36 \\n\")\n",
    "        for fold in results:\n",
    "            for prediction in fold:\n",
    "                for i, value in enumerate(prediction):\n",
    "                    file.write(str(value))\n",
    "\n",
    "                    if i != 2:\n",
    "                        file.write(\", \")\n",
    "                file.write(\"\\n\")\n",
    "            file.write(\"\\n\")"
   ],
   "metadata": {
    "collapsed": false
   }
  },
  {
   "cell_type": "code",
   "execution_count": 73,
   "outputs": [],
   "source": [
    "def write_pbf_scores(scores):\n",
    "    with open(\"boston_rf_pbf_scores.txt\", \"a\") as file:\n",
    "        file.write(\"WARNING: FOLDS 5-10 (INC.) ONLY HAVE 35 TRUE PREDICTIONS - IGNORE PREDICTION 36 \\n\")\n",
    "        for score_array in scores:\n",
    "            for i, score in enumerate(score_array):\n",
    "                file.write(str(score))\n",
    "\n",
    "                if i != 2:\n",
    "                    file.write(\", \")\n",
    "            file.write(\"\\n\")"
   ],
   "metadata": {
    "collapsed": false
   }
  },
  {
   "cell_type": "code",
   "execution_count": 74,
   "outputs": [],
   "source": [
    "def validation_pbf(forest_model, v_X, v_y, n_samples):\n",
    "    results = np.empty((len(v_y), 3)) # [prediction[mean, std, y]]\n",
    "\n",
    "    for i, covars in enumerate(v_X):\n",
    "        p = forest_model.get_prediction_distribution(covars.reshape(1, -1), n_rubin_samples=n_samples)\n",
    "\n",
    "        results[i][0] = np.mean(p)\n",
    "        results[i][1] = np.std(p)\n",
    "        results[i][2] = v_y[i]\n",
    "\n",
    "    scores = np.empty(3)\n",
    "    means = results[:, 0]\n",
    "\n",
    "    scores[0] = mean_squared_error(v_y, means)\n",
    "    scores[1] = mean_absolute_error(v_y, means)\n",
    "    scores[2] = r2_score(v_y, means)\n",
    "\n",
    "    return results, scores"
   ],
   "metadata": {
    "collapsed": false
   }
  },
  {
   "cell_type": "markdown",
   "source": [
    "### Get PBF of multiple w values:"
   ],
   "metadata": {
    "collapsed": false
   }
  },
  {
   "cell_type": "markdown",
   "source": [
    "w = 0. Repeated 10 times"
   ],
   "metadata": {
    "collapsed": false
   }
  },
  {
   "cell_type": "code",
   "execution_count": 99,
   "outputs": [
    {
     "name": "stdout",
     "output_type": "stream",
     "text": [
      "[[13.39707401  2.74669588  0.81916745]\n",
      " [ 8.8223852   1.9149519   0.88128583]\n",
      " [11.32071564  2.6304001   0.83301736]\n",
      " [33.62470299  3.67746093  0.7327604 ]\n",
      " [13.37959967  2.61454414  0.85036109]\n",
      " [10.11277955  2.50492822  0.85276165]\n",
      " [14.46681162  2.88694895  0.88031746]\n",
      " [ 8.38668065  2.08045858  0.78986795]\n",
      " [32.8849825   3.10647828  0.46612501]\n",
      " [12.918694    2.63036437  0.87958695]]\n"
     ]
    }
   ],
   "source": [
    "k1 = pbf.get_k(0, len(X[train]))\n",
    "results1, pbf_forests1 = proper_bf(k1)\n",
    "scores1 = get_pbf_scores(results1)\n",
    "write_pbf_results(results1)\n",
    "write_pbf_scores(scores1)\n",
    "print(scores1)"
   ],
   "metadata": {
    "collapsed": false
   }
  },
  {
   "cell_type": "code",
   "execution_count": 98,
   "outputs": [
    {
     "name": "stdout",
     "output_type": "stream",
     "text": [
      "\n",
      "\n"
     ]
    }
   ],
   "source": [
    "vr, vs = validation_pbf(pbf_forests1[4], X_test, y_test, n_rubin_samples)\n",
    "with open(\"boston_pbf_validation_scores_w0.txt\", \"a\") as file:\n",
    "    for i, score in enumerate(vs):\n",
    "        file.write(str(score))\n",
    "        if i != 2:\n",
    "            file.write(\", \")\n",
    "    file.write(\"\\n\")"
   ],
   "metadata": {
    "collapsed": false
   }
  },
  {
   "cell_type": "markdown",
   "source": [
    "w = 0.25. Repeated 10 times"
   ],
   "metadata": {
    "collapsed": false
   }
  },
  {
   "cell_type": "code",
   "execution_count": 119,
   "outputs": [
    {
     "name": "stdout",
     "output_type": "stream",
     "text": [
      "[[89.16688738  6.30922833  0.18796449]\n",
      " [62.15012569  5.66906661  0.3981006 ]\n",
      " [74.06911595  5.44112212  0.27800207]\n",
      " [62.28785785  4.90028141  0.15825007]\n",
      " [60.59821156  5.34508658  0.36266539]\n",
      " [75.39526814  6.190449    0.36584643]\n",
      " [38.56737717  4.64028451  0.34088918]\n",
      " [55.50849514  5.84427705  0.42271801]\n",
      " [41.90742345  4.32310392  0.39338639]\n",
      " [27.54669271  4.40217857  0.2660341 ]]\n"
     ]
    }
   ],
   "source": [
    "k2 = pbf.get_k(0.25, len(X[train]))\n",
    "results2, pbf_forests2 = proper_bf(k2)\n",
    "scores2 = get_pbf_scores(results2)\n",
    "write_pbf_results(results2)\n",
    "write_pbf_scores(scores2)\n",
    "print(scores2)"
   ],
   "metadata": {
    "collapsed": false
   }
  },
  {
   "cell_type": "code",
   "execution_count": 120,
   "outputs": [],
   "source": [
    "vr, vs = validation_pbf(pbf_forests2[9], X_test, y_test, n_rubin_samples)\n",
    "with open(\"boston_pbf_validation_scores_w025.txt\", \"a\") as file:\n",
    "    for i, score in enumerate(vs):\n",
    "        file.write(str(score))\n",
    "        if i != 2:\n",
    "            file.write(\", \")\n",
    "    file.write(\"\\n\")"
   ],
   "metadata": {
    "collapsed": false
   }
  },
  {
   "cell_type": "markdown",
   "source": [
    "w = 0.05. Repeated 5 times"
   ],
   "metadata": {
    "collapsed": false
   }
  },
  {
   "cell_type": "code",
   "execution_count": 132,
   "outputs": [
    {
     "name": "stdout",
     "output_type": "stream",
     "text": [
      "[[16.00820322  2.86334185  0.68101554]\n",
      " [22.65758487  3.9948171   0.58570946]\n",
      " [53.23805949  5.32317009  0.44194744]\n",
      " [27.29337799  4.0234779   0.62431924]\n",
      " [69.54749346  5.20365364  0.31471958]\n",
      " [35.63452359  4.73153201  0.5824749 ]\n",
      " [53.31109147  4.74876688  0.59743056]\n",
      " [36.95553483  4.70377152  0.5926248 ]\n",
      " [44.95841244  4.96976898  0.59478938]\n",
      " [20.87576885  2.80424151  0.6814735 ]]\n"
     ]
    }
   ],
   "source": [
    "k3 = pbf.get_k(0.05, len(X[train]))\n",
    "results3, pbf_forests3 = proper_bf(k3)\n",
    "scores3 = get_pbf_scores(results3)\n",
    "write_pbf_results(results3)\n",
    "write_pbf_scores(results3)\n",
    "print(scores3)"
   ],
   "metadata": {
    "collapsed": false
   }
  },
  {
   "cell_type": "code",
   "execution_count": 133,
   "outputs": [],
   "source": [
    "vr, vs = validation_pbf(pbf_forests3[0], X_test, y_test, n_rubin_samples)\n",
    "with open(\"boston_pbf_validation_scores_w005.txt\", \"a\") as file:\n",
    "    for i, score in enumerate(vs):\n",
    "        file.write(str(score))\n",
    "        if i != 2:\n",
    "            file.write(\", \")\n",
    "    file.write(\"\\n\")"
   ],
   "metadata": {
    "collapsed": false
   }
  }
 ],
 "metadata": {
  "kernelspec": {
   "display_name": "Python 3",
   "language": "python",
   "name": "python3"
  },
  "language_info": {
   "codemirror_mode": {
    "name": "ipython",
    "version": 2
   },
   "file_extension": ".py",
   "mimetype": "text/x-python",
   "name": "python",
   "nbconvert_exporter": "python",
   "pygments_lexer": "ipython2",
   "version": "2.7.6"
  }
 },
 "nbformat": 4,
 "nbformat_minor": 0
}
