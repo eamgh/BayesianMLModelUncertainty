{
 "cells": [
  {
   "cell_type": "code",
   "execution_count": 15,
   "metadata": {
    "collapsed": true
   },
   "outputs": [],
   "source": [
    "import pandas as pd\n",
    "\n",
    "df = pd.read_csv(\n",
    "    \"",\n",
    "    sep=';')\n",
    "X = df.iloc[:, :-1]\n",
    "y = df.iloc[:, 11]\n",
    "\n",
    "from sklearn.model_selection import train_test_split\n",
    "X_train, X_test, y_train, y_test = train_test_split(X, y, test_size=0.3, random_state=42)"
   ]
  },
  {
   "cell_type": "code",
   "execution_count": 41,
   "outputs": [
    {
     "data": {
      "text/plain": "(3428, 11)"
     },
     "execution_count": 41,
     "metadata": {},
     "output_type": "execute_result"
    }
   ],
   "source": [
    "X_train.shape"
   ],
   "metadata": {
    "collapsed": false
   }
  },
  {
   "cell_type": "code",
   "execution_count": 21,
   "outputs": [],
   "source": [
    "enn = pd.read_csv('wine_ensemble_nn_results.txt', header=None).iloc[:, :-1]\n",
    "bnn = pd.read_csv('wine_bnn_results.txt', header=None)\n",
    "erf = pd.read_csv('wine_ensemble_rf_results.txt', header=None).iloc[:, :-1]\n",
    "bf = pd.read_csv('wine_bf_results.txt', header=None).iloc[:, :-1]\n",
    "pbf_0 = pd.read_csv('wine_pbf_w0_full_set_results.txt', header=None).iloc[:, :-1]\n",
    "pbf_01 = pd.read_csv('wine_pbf_w01_full_set_results.txt', header=None).iloc[:, :-1]"
   ],
   "metadata": {
    "collapsed": false
   }
  },
  {
   "cell_type": "code",
   "execution_count": 22,
   "outputs": [],
   "source": [
    "means = {}\n",
    "means[\"enn\"] = enn.mean(axis=1)\n",
    "means[\"bnn\"] = bnn.iloc[:, 0]\n",
    "means[\"erf\"] = erf.mean(axis=1)\n",
    "means[\"bf\"] = bf.mean(axis=1)\n",
    "means[\"pbf_0\"] = pbf_0.mean(axis=1)\n",
    "means[\"pbf_01\"] = pbf_01.mean(axis=1)"
   ],
   "metadata": {
    "collapsed": false
   }
  },
  {
   "cell_type": "code",
   "execution_count": 31,
   "outputs": [],
   "source": [
    "stds = {}\n",
    "stds[\"enn\"] = enn.std(axis=1)\n",
    "stds[\"bnn\"] = bnn.iloc[:, 1]\n",
    "stds[\"erf\"] = erf.std(axis=1)\n",
    "stds[\"bf\"] = bf.std(axis=1)\n",
    "stds[\"pbf_0\"] = pbf_0.std(axis=1)\n",
    "stds[\"pbf_01\"] = pbf_01.std(axis=1)"
   ],
   "metadata": {
    "collapsed": false
   }
  },
  {
   "cell_type": "code",
   "execution_count": 24,
   "outputs": [],
   "source": [
    "std_means = {}\n",
    "std_means[\"enn\"] = enn.std(axis=1).mean()\n",
    "std_means[\"bnn\"] = bnn.iloc[:, 1].mean()\n",
    "std_means[\"erf\"] = erf.std(axis=1).mean()\n",
    "std_means[\"bf\"] = bf.std(axis=1).mean()\n",
    "std_means[\"pbf_0\"] = pbf_0.std(axis=1).mean()\n",
    "std_means[\"pbf_01\"] = pbf_01.std(axis=1).mean()"
   ],
   "metadata": {
    "collapsed": false
   }
  },
  {
   "cell_type": "code",
   "execution_count": 25,
   "outputs": [],
   "source": [
    "std_totals = {}\n",
    "std_totals[\"enn\"] = enn.std(axis=1).sum()\n",
    "std_totals[\"bnn\"] = bnn.iloc[:, 1].sum()\n",
    "std_totals[\"erf\"] = erf.std(axis=1).sum()\n",
    "std_totals[\"bf\"] = bf.std(axis=1).sum()\n",
    "std_totals[\"pbf_0\"] = pbf_0.std(axis=1).sum()\n",
    "std_totals[\"pbf_01\"] = pbf_01.std(axis=1).sum()"
   ],
   "metadata": {
    "collapsed": false
   }
  },
  {
   "cell_type": "code",
   "execution_count": 26,
   "outputs": [],
   "source": [
    "from sklearn.metrics import mean_absolute_error, mean_squared_error\n",
    "\n",
    "mae = {}\n",
    "mae[\"enn\"] = mean_absolute_error(y_test, means[\"enn\"])\n",
    "mae[\"bnn\"] = mean_absolute_error(y_test, means[\"bnn\"])\n",
    "mae[\"erf\"] = mean_absolute_error(y_test, means[\"erf\"])\n",
    "mae[\"bf\"] = mean_absolute_error(y_test, means[\"bf\"])\n",
    "mae[\"pbf_0\"] = mean_absolute_error(y_test, means[\"pbf_0\"])\n",
    "mae[\"pbf_01\"] = mean_absolute_error(y_test, means[\"pbf_01\"])\n",
    "\n",
    "mse = {}\n",
    "mse[\"enn\"] = mean_squared_error(y_test, means[\"enn\"])\n",
    "mse[\"bnn\"] = mean_squared_error(y_test, means[\"bnn\"])\n",
    "mse[\"erf\"] = mean_squared_error(y_test, means[\"erf\"])\n",
    "mse[\"bf\"] = mean_squared_error(y_test, means[\"bf\"])\n",
    "mse[\"pbf_0\"] = mean_squared_error(y_test, means[\"pbf_0\"])\n",
    "mse[\"pbf_01\"] = mean_squared_error(y_test, means[\"pbf_01\"])"
   ],
   "metadata": {
    "collapsed": false
   }
  },
  {
   "cell_type": "code",
   "execution_count": 27,
   "outputs": [],
   "source": [
    "import uncertainty_analysis.uncertainty_metrics as metrics\n",
    "\n",
    "cib_interval_values = {}\n",
    "cib_interval_values[\"enn\"] = metrics.get_95_ci_intervals(enn)\n",
    "cib_interval_values[\"bnn\"] = metrics.get_95_cb_intervals(bnn)\n",
    "cib_interval_values[\"erf\"] = metrics.get_95_ci_intervals(erf)\n",
    "cib_interval_values[\"bf\"] = metrics.get_95_ci_intervals(bf)\n",
    "cib_interval_values[\"pbf_0\"] = metrics.get_95_ci_intervals(pbf_0)\n",
    "cib_interval_values[\"pbf_01\"] = metrics.get_95_ci_intervals(pbf_01)"
   ],
   "metadata": {
    "collapsed": false
   }
  },
  {
   "cell_type": "code",
   "execution_count": 38,
   "outputs": [],
   "source": [
    "tvs_scores = {}\n",
    "tvs_scores[\"enn\"] = metrics.tvs_score(cib_interval_values[\"enn\"], y_test)\n",
    "tvs_scores[\"bnn\"] = metrics.tvs_score_bnn(cib_interval_values[\"bnn\"], y_test)\n",
    "tvs_scores[\"erf\"] = metrics.tvs_score(cib_interval_values[\"erf\"], y_test)\n",
    "tvs_scores[\"bf\"] = metrics.tvs_score(cib_interval_values[\"bf\"], y_test)\n",
    "tvs_scores[\"pbf_0\"] = metrics.tvs_score(cib_interval_values[\"pbf_0\"], y_test)\n",
    "tvs_scores[\"pbf_01\"] = metrics.tvs_score(cib_interval_values[\"pbf_01\"], y_test)"
   ],
   "metadata": {
    "collapsed": false
   }
  },
  {
   "cell_type": "code",
   "execution_count": 29,
   "outputs": [],
   "source": [
    "quality_scores = {}\n",
    "quality_scores[\"enn\"] = metrics.quality_score(cib_interval_values[\"enn\"], y_test)\n",
    "quality_scores[\"bnn\"] = metrics.quality_score_bnn(cib_interval_values[\"bnn\"], y_test)\n",
    "quality_scores[\"erf\"] = metrics.quality_score(cib_interval_values[\"erf\"], y_test)\n",
    "quality_scores[\"bf\"] = metrics.quality_score(cib_interval_values[\"bf\"], y_test)\n",
    "quality_scores[\"pbf_0\"] = metrics.quality_score(cib_interval_values[\"pbf_0\"], y_test)\n",
    "quality_scores[\"pbf_01\"] = metrics.quality_score(cib_interval_values[\"pbf_01\"], y_test)"
   ],
   "metadata": {
    "collapsed": false
   }
  },
  {
   "cell_type": "code",
   "execution_count": 40,
   "outputs": [
    {
     "name": "stdout",
     "output_type": "stream",
     "text": [
      "{'enn': 1046.089483, 'bnn': 33124.144108, 'erf': 726.652, 'bf': 738.841991, 'pbf_0': 784.980502, 'pbf_01': 853.911232}\n"
     ]
    }
   ],
   "source": [
    "rounded_dict = {key: round(value, 6) for key, value in quality_scores.items()}\n",
    "\n",
    "print(rounded_dict)"
   ],
   "metadata": {
    "collapsed": false
   }
  },
  {
   "cell_type": "code",
   "execution_count": 30,
   "outputs": [
    {
     "data": {
      "text/plain": "             enn       bnn       erf        bf     pbf_0    pbf_01\nenn          1.0  0.576531  0.477211   0.47449   0.45034  0.495578\nbnn     0.576531       1.0  0.539796  0.542857  0.544218  0.533673\nerf     0.477211  0.539796       1.0  0.919728  0.551361  0.298299\nbf       0.47449  0.542857  0.919728       1.0  0.519048  0.308163\npbf_0    0.45034  0.544218  0.551361  0.519048       1.0  0.293878\npbf_01  0.495578  0.533673  0.298299  0.308163  0.293878       1.0",
      "text/html": "<div>\n<style scoped>\n    .dataframe tbody tr th:only-of-type {\n        vertical-align: middle;\n    }\n\n    .dataframe tbody tr th {\n        vertical-align: top;\n    }\n\n    .dataframe thead th {\n        text-align: right;\n    }\n</style>\n<table border=\"1\" class=\"dataframe\">\n  <thead>\n    <tr style=\"text-align: right;\">\n      <th></th>\n      <th>enn</th>\n      <th>bnn</th>\n      <th>erf</th>\n      <th>bf</th>\n      <th>pbf_0</th>\n      <th>pbf_01</th>\n    </tr>\n  </thead>\n  <tbody>\n    <tr>\n      <th>enn</th>\n      <td>1.0</td>\n      <td>0.576531</td>\n      <td>0.477211</td>\n      <td>0.47449</td>\n      <td>0.45034</td>\n      <td>0.495578</td>\n    </tr>\n    <tr>\n      <th>bnn</th>\n      <td>0.576531</td>\n      <td>1.0</td>\n      <td>0.539796</td>\n      <td>0.542857</td>\n      <td>0.544218</td>\n      <td>0.533673</td>\n    </tr>\n    <tr>\n      <th>erf</th>\n      <td>0.477211</td>\n      <td>0.539796</td>\n      <td>1.0</td>\n      <td>0.919728</td>\n      <td>0.551361</td>\n      <td>0.298299</td>\n    </tr>\n    <tr>\n      <th>bf</th>\n      <td>0.47449</td>\n      <td>0.542857</td>\n      <td>0.919728</td>\n      <td>1.0</td>\n      <td>0.519048</td>\n      <td>0.308163</td>\n    </tr>\n    <tr>\n      <th>pbf_0</th>\n      <td>0.45034</td>\n      <td>0.544218</td>\n      <td>0.551361</td>\n      <td>0.519048</td>\n      <td>1.0</td>\n      <td>0.293878</td>\n    </tr>\n    <tr>\n      <th>pbf_01</th>\n      <td>0.495578</td>\n      <td>0.533673</td>\n      <td>0.298299</td>\n      <td>0.308163</td>\n      <td>0.293878</td>\n      <td>1.0</td>\n    </tr>\n  </tbody>\n</table>\n</div>"
     },
     "execution_count": 30,
     "metadata": {},
     "output_type": "execute_result"
    }
   ],
   "source": [
    "cds_scores = pd.DataFrame(index=cib_interval_values.keys(), columns=cib_interval_values.keys())\n",
    "\n",
    "# Apply the function to the values and fill the DataFrame with the results\n",
    "for var_x, val_x in cib_interval_values.items():\n",
    "    for var_y, val_y in cib_interval_values.items():\n",
    "        if var_x == 'bnn':\n",
    "            cds_scores.loc[var_x, var_y] = metrics.cds_score(val_x, means[var_x], val_y, means[var_y], bnn=True)\n",
    "        elif var_y == 'bnn':\n",
    "            cds_scores.loc[var_x, var_y] = metrics.cds_score(val_y, means[var_y], val_x, means[var_x], bnn=True)\n",
    "        else:\n",
    "            cds_scores.loc[var_x, var_y] = metrics.cds_score(val_y, means[var_y], val_x, means[var_x])\n",
    "\n",
    "cds_scores"
   ],
   "metadata": {
    "collapsed": false
   }
  }
 ],
 "metadata": {
  "kernelspec": {
   "display_name": "Python 3",
   "language": "python",
   "name": "python3"
  },
  "language_info": {
   "codemirror_mode": {
    "name": "ipython",
    "version": 2
   },
   "file_extension": ".py",
   "mimetype": "text/x-python",
   "name": "python",
   "nbconvert_exporter": "python",
   "pygments_lexer": "ipython2",
   "version": "2.7.6"
  }
 },
 "nbformat": 4,
 "nbformat_minor": 0
}
