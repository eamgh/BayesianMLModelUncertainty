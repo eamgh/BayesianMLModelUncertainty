{
 "cells": [
  {
   "cell_type": "code",
   "execution_count": 1,
   "metadata": {
    "collapsed": true
   },
   "outputs": [],
   "source": [
    "from uncertainty_analysis import random_forest_ensemble as rfe\n",
    "import pandas as pd"
   ]
  },
  {
   "cell_type": "code",
   "execution_count": 2,
   "outputs": [],
   "source": [
    "df = pd.read_csv(\n",
    "    \"",\n",
    "    sep=';')\n",
    "X = df.iloc[:, :-1]\n",
    "y = df.iloc[:, 11]"
   ],
   "metadata": {
    "collapsed": false
   }
  },
  {
   "cell_type": "code",
   "execution_count": 3,
   "outputs": [],
   "source": [
    "from sklearn.preprocessing import StandardScaler\n",
    "sc = StandardScaler()\n",
    "X = sc.fit_transform(X)"
   ],
   "metadata": {
    "collapsed": false
   }
  },
  {
   "cell_type": "code",
   "execution_count": 4,
   "outputs": [],
   "source": [
    "from sklearn.model_selection import train_test_split\n",
    "X_train, X_test, y_train, y_test = train_test_split(X, y, test_size=0.3, random_state=42)"
   ],
   "metadata": {
    "collapsed": false
   }
  },
  {
   "cell_type": "code",
   "execution_count": 5,
   "outputs": [],
   "source": [
    "wine_rf_ens = []\n",
    "wine_rf_ens_preds = [] # List[ensemble np.array[regressors np.array[predictions]]\n",
    "for i in range(0, 10):\n",
    "    m = rfe.RandomForestRegressorEnsemble(n_jobs=5, n_regressors=100).fit(X_train, y_train)\n",
    "    wine_rf_ens.append(m)\n",
    "    wine_rf_ens_preds.append(m.predict(X_test))"
   ],
   "metadata": {
    "collapsed": false
   }
  },
  {
   "cell_type": "code",
   "execution_count": 6,
   "outputs": [
    {
     "data": {
      "text/plain": "array([[6.83, 6.88, 6.86, ..., 6.89, 6.95, 6.84],\n       [7.62, 7.5 , 7.57, ..., 7.58, 7.45, 7.69],\n       [6.43, 6.6 , 6.45, ..., 6.51, 6.52, 6.52],\n       ...,\n       [5.84, 5.67, 5.64, ..., 5.6 , 5.54, 5.78],\n       [6.54, 6.61, 6.56, ..., 6.61, 6.66, 6.58],\n       [6.87, 6.87, 6.94, ..., 7.02, 6.91, 6.89]])"
     },
     "execution_count": 6,
     "metadata": {},
     "output_type": "execute_result"
    }
   ],
   "source": [
    "# select best model\n",
    "from uncertainty_analysis import project_helper_functions as phf\n",
    "\n",
    "best_model_results = wine_rf_ens_preds[phf.get_best_model_idx(wine_rf_ens_preds, y_test)]\n",
    "best_model_results.T"
   ],
   "metadata": {
    "collapsed": false
   }
  },
  {
   "cell_type": "code",
   "execution_count": 7,
   "outputs": [],
   "source": [
    "phf.write_ensemble_model_results(best_model_results.T, \"wine_ensemble_rf_results.txt\")"
   ],
   "metadata": {
    "collapsed": false
   }
  }
 ],
 "metadata": {
  "kernelspec": {
   "display_name": "Python 3",
   "language": "python",
   "name": "python3"
  },
  "language_info": {
   "codemirror_mode": {
    "name": "ipython",
    "version": 2
   },
   "file_extension": ".py",
   "mimetype": "text/x-python",
   "name": "python",
   "nbconvert_exporter": "python",
   "pygments_lexer": "ipython2",
   "version": "2.7.6"
  }
 },
 "nbformat": 4,
 "nbformat_minor": 0
}
