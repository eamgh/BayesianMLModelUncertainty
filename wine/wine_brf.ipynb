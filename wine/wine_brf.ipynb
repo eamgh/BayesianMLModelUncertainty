{
 "cells": [
  {
   "cell_type": "code",
   "execution_count": 5,
   "metadata": {
    "collapsed": true
   },
   "outputs": [],
   "source": [
    "import pandas as pd\n",
    "import numpy as np\n",
    "\n",
    "df = pd.read_csv(\n",
    "    \"",\n",
    "    sep=';')\n",
    "X = df.iloc[:, :-1]\n",
    "y = df.iloc[:, 11]\n",
    "\n",
    "from sklearn.preprocessing import StandardScaler\n",
    "sc = StandardScaler()\n",
    "X = sc.fit_transform(X)\n",
    "\n",
    "from sklearn.model_selection import train_test_split\n",
    "X_train, X_test, y_train, y_test = train_test_split(X, y, test_size=0.3, random_state=42)"
   ]
  },
  {
   "cell_type": "code",
   "execution_count": 6,
   "outputs": [
    {
     "data": {
      "text/plain": "(3428, 11)"
     },
     "execution_count": 6,
     "metadata": {},
     "output_type": "execute_result"
    }
   ],
   "source": [
    "X_train.shape"
   ],
   "metadata": {
    "collapsed": false
   }
  },
  {
   "cell_type": "code",
   "execution_count": 7,
   "outputs": [],
   "source": [
    "from sklearn.ensemble import RandomForestRegressor\n",
    "from uncertainty_analysis import bootstrap\n",
    "\n",
    "n_rubin_samples = 600\n",
    "n_pbf_btstrp_smpls = 3428"
   ],
   "metadata": {
    "collapsed": false
   }
  },
  {
   "cell_type": "markdown",
   "source": [
    "# Bayesian Forest"
   ],
   "metadata": {
    "collapsed": false
   }
  },
  {
   "cell_type": "code",
   "execution_count": 9,
   "outputs": [],
   "source": [
    "wine_bf_results = []  # List[ensemble np.array[regressors np.array[predictions]]\n",
    "for i in range(0, 10):\n",
    "    m = RandomForestRegressor().fit(X_train, y_train)\n",
    "\n",
    "    predictions = np.empty((m.n_estimators, len(X_test)))\n",
    "\n",
    "    for j, tree in enumerate(m.estimators_):\n",
    "        predictions[j] = tree.predict(X_test)\n",
    "\n",
    "    bootstrapped_predictions = np.empty((len(X_test), n_rubin_samples))\n",
    "    for k, result_set in enumerate(predictions.T):\n",
    "        bootstrapped_predictions[k] = bootstrap.bayesian_bootstrap(result_set, n_rubin_samples)\n",
    "\n",
    "    wine_bf_results.append(bootstrapped_predictions)"
   ],
   "metadata": {
    "collapsed": false
   }
  },
  {
   "cell_type": "code",
   "execution_count": 10,
   "outputs": [],
   "source": [
    "from uncertainty_analysis import project_helper_functions as phf\n",
    "\n",
    "best_model_results = wine_bf_results[phf.bf_get_best_model_idx(wine_bf_results, y_test)]\n",
    "phf.write_ensemble_model_results(best_model_results, \"wine_bf_results.txt\")"
   ],
   "metadata": {
    "collapsed": false
   }
  },
  {
   "cell_type": "markdown",
   "source": [
    "# Proper Bayesian Forest, w=0"
   ],
   "metadata": {
    "collapsed": false
   }
  },
  {
   "cell_type": "code",
   "execution_count": 11,
   "outputs": [],
   "source": [
    "from uncertainty_analysis import proper_bayesian_forest as pbf\n",
    "\n",
    "k_w0 = pbf.get_k(0, n_pbf_btstrp_smpls)"
   ],
   "metadata": {
    "collapsed": false
   }
  },
  {
   "cell_type": "code",
   "execution_count": 12,
   "outputs": [],
   "source": [
    "def create_priors(X):\n",
    "    n_features = X.shape[1]\n",
    "    priors = np.empty(n_features, dtype=pbf.UniformPrior)\n",
    "    for i in range(0, n_features):\n",
    "        priors[i] = pbf.UniformPrior(X[:, i])\n",
    "\n",
    "    return priors"
   ],
   "metadata": {
    "collapsed": false
   }
  },
  {
   "cell_type": "code",
   "execution_count": 13,
   "outputs": [],
   "source": [
    "def proper_bf(k):\n",
    "    pbf_results = []\n",
    "\n",
    "    for i in range(0, 10):\n",
    "        m = pbf.ProperBayesianForest(X_train, y_train,\n",
    "                                     create_priors(X_train),\n",
    "                                     k_values=np.array([k] * X_train.shape[1], dtype=np.int32),\n",
    "                                     n_galvani_samples=n_pbf_btstrp_smpls)\n",
    "        m.fit()\n",
    "\n",
    "        predictions = np.empty((len(X_test), n_rubin_samples))\n",
    "\n",
    "        for j, xs in enumerate(X_test):\n",
    "            predictions[j] = m.get_prediction_distribution(xs.reshape(1, -1), n_rubin_samples=n_rubin_samples)\n",
    "\n",
    "        pbf_results.append(predictions)\n",
    "\n",
    "    return pbf_results"
   ],
   "metadata": {
    "collapsed": false
   }
  },
  {
   "cell_type": "code",
   "execution_count": 14,
   "outputs": [],
   "source": [
    "pbf_w0_results = proper_bf(k_w0)\n",
    "best_model_results = pbf_w0_results[phf.bf_get_best_model_idx(pbf_w0_results, y_test)]\n",
    "phf.write_ensemble_model_results(best_model_results, \"wine_pbf_w0_full_set_results.txt\")"
   ],
   "metadata": {
    "collapsed": false
   }
  },
  {
   "cell_type": "markdown",
   "source": [
    "# Proper Bayesian Forest, w=0.1"
   ],
   "metadata": {
    "collapsed": false
   }
  },
  {
   "cell_type": "code",
   "execution_count": 15,
   "outputs": [],
   "source": [
    "k_w1 = pbf.get_k(0.1, n_pbf_btstrp_smpls)\n",
    "pbf_w1_results = proper_bf(k_w1)\n",
    "best_model_results = pbf_w1_results[phf.bf_get_best_model_idx(pbf_w1_results, y_test)]\n",
    "phf.write_ensemble_model_results(best_model_results, \"wine_pbf_w01_full_set_results.txt\")"
   ],
   "metadata": {
    "collapsed": false
   }
  }
 ],
 "metadata": {
  "kernelspec": {
   "display_name": "Python 3",
   "language": "python",
   "name": "python3"
  },
  "language_info": {
   "codemirror_mode": {
    "name": "ipython",
    "version": 2
   },
   "file_extension": ".py",
   "mimetype": "text/x-python",
   "name": "python",
   "nbconvert_exporter": "python",
   "pygments_lexer": "ipython2",
   "version": "2.7.6"
  }
 },
 "nbformat": 4,
 "nbformat_minor": 0
}
