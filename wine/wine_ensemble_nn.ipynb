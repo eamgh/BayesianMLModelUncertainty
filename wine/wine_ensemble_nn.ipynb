{
 "cells": [
  {
   "cell_type": "code",
   "execution_count": 1,
   "metadata": {
    "collapsed": true
   },
   "outputs": [],
   "source": [
    "from uncertainty_analysis import multilayer_perceptron_ensemble as mpe\n",
    "import pandas as pd"
   ]
  },
  {
   "cell_type": "code",
   "execution_count": 2,
   "outputs": [],
   "source": [
    "df = pd.read_csv(\"", sep=';')\n",
    "X = df.iloc[:, :-1]\n",
    "y = df.iloc[:, 11]"
   ],
   "metadata": {
    "collapsed": false
   }
  },
  {
   "cell_type": "code",
   "execution_count": 3,
   "outputs": [],
   "source": [
    "from sklearn.preprocessing import StandardScaler\n",
    "sc = StandardScaler()\n",
    "X = sc.fit_transform(X)"
   ],
   "metadata": {
    "collapsed": false
   }
  },
  {
   "cell_type": "code",
   "execution_count": 4,
   "outputs": [
    {
     "data": {
      "text/plain": "array([[ 1.72096961e-01, -8.17699008e-02,  2.13280202e-01, ...,\n        -1.24692128e+00, -3.49184257e-01, -1.39315246e+00],\n       [-6.57501128e-01,  2.15895632e-01,  4.80011213e-02, ...,\n         7.40028640e-01,  1.34184656e-03, -8.24275678e-01],\n       [ 1.47575110e+00,  1.74519434e-02,  5.43838363e-01, ...,\n         4.75101984e-01, -4.36815783e-01, -3.36667007e-01],\n       ...,\n       [-4.20473102e-01, -3.79435433e-01, -1.19159198e+00, ...,\n        -1.31315295e+00, -2.61552731e-01, -9.05543789e-01],\n       [-1.60561323e+00,  1.16673788e-01, -2.82557040e-01, ...,\n         1.00495530e+00, -9.62604939e-01,  1.85757201e+00],\n       [-1.01304317e+00, -6.77100966e-01,  3.78559282e-01, ...,\n         4.75101984e-01, -1.48839409e+00,  1.04489089e+00]])"
     },
     "execution_count": 4,
     "metadata": {},
     "output_type": "execute_result"
    }
   ],
   "source": [
    "X"
   ],
   "metadata": {
    "collapsed": false
   }
  },
  {
   "cell_type": "code",
   "execution_count": 5,
   "outputs": [],
   "source": [
    "from sklearn.model_selection import train_test_split\n",
    "X_train, X_test, y_train, y_test = train_test_split(X, y, test_size=0.3, random_state=42)"
   ],
   "metadata": {
    "collapsed": false
   }
  },
  {
   "cell_type": "code",
   "execution_count": 6,
   "outputs": [],
   "source": [
    "wine_nn_ens = []\n",
    "wine_nn_ens_preds = [] # List[ensemble np.array[regressors np.array[predictions]]\n",
    "for i in range(0, 10):\n",
    "    m = mpe.MultiMLPRegressors(n_jobs=5, n_regressors=100).fit(X_train, y_train)\n",
    "    wine_nn_ens.append(m)\n",
    "    wine_nn_ens_preds.append(m.predict(X_test))"
   ],
   "metadata": {
    "collapsed": false
   }
  },
  {
   "cell_type": "code",
   "execution_count": 7,
   "outputs": [
    {
     "data": {
      "text/plain": "array([[6.26165985, 6.13779949, 6.30985586, ..., 6.26856014, 6.23832859,\n        6.29509107],\n       [6.6792773 , 6.44064913, 6.97050857, ..., 6.68449743, 6.56779459,\n        6.41214452],\n       [6.60971681, 6.68752349, 6.77244538, ..., 6.61785489, 6.55579501,\n        6.58258328],\n       ...,\n       [5.41078316, 5.48360179, 5.6328665 , ..., 5.7385204 , 5.6144934 ,\n        5.74244128],\n       [6.50550667, 6.25992276, 6.66317637, ..., 6.6042263 , 6.42335274,\n        6.3022448 ],\n       [7.24548274, 6.83131592, 6.76193207, ..., 6.93524479, 6.79711366,\n        6.88271785]])"
     },
     "execution_count": 7,
     "metadata": {},
     "output_type": "execute_result"
    }
   ],
   "source": [
    "# select best model\n",
    "from uncertainty_analysis import project_helper_functions as phf\n",
    "\n",
    "best_model_results = wine_nn_ens_preds[phf.get_best_model_idx(wine_nn_ens_preds, y_test)]\n",
    "best_model_results.T"
   ],
   "metadata": {
    "collapsed": false
   }
  },
  {
   "cell_type": "code",
   "execution_count": 8,
   "outputs": [],
   "source": [
    "phf.write_ensemble_model_results(best_model_results.T, \"wine_ensemble_nn_results.txt\")"
   ],
   "metadata": {
    "collapsed": false
   }
  }
 ],
 "metadata": {
  "kernelspec": {
   "display_name": "Python 3",
   "language": "python",
   "name": "python3"
  },
  "language_info": {
   "codemirror_mode": {
    "name": "ipython",
    "version": 2
   },
   "file_extension": ".py",
   "mimetype": "text/x-python",
   "name": "python",
   "nbconvert_exporter": "python",
   "pygments_lexer": "ipython2",
   "version": "2.7.6"
  }
 },
 "nbformat": 4,
 "nbformat_minor": 0
}
