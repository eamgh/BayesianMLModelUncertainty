{
 "cells": [
  {
   "cell_type": "code",
   "execution_count": 73,
   "metadata": {
    "collapsed": true
   },
   "outputs": [
    {
     "name": "stderr",
     "output_type": "stream",
     "text": [
      "C:\\Users\\elsag\\OneDrive\\Desktop\\Uni\\Year 4\\Academic\\Dissertation\\Final Report\\Code\\scikit-learn-1.2.1\\scikit-learn-1.2.1\\venv\\lib\\site-packages\\openml\\datasets\\functions.py:438: FutureWarning: Starting from Version 0.15 `download_data`, `download_qualities`, and `download_features_meta_data` will all be ``False`` instead of ``True`` by default to enable lazy loading. To disable this message until version 0.15 explicitly set `download_data`, `download_qualities`, and `download_features_meta_data` to a bool while calling `get_dataset`.\n",
      "  warnings.warn(\n"
     ]
    }
   ],
   "source": [
    "import openml\n",
    "import pandas as pd\n",
    "\n",
    "dataset = openml.datasets.get_dataset(487)\n",
    "X, y, _, attribute_names = dataset.get_data(target=dataset.default_target_attribute)\n",
    "\n",
    "from sklearn.model_selection import train_test_split\n",
    "X_train, X_test, y_train, y_test = train_test_split(X, y, test_size=0.25, random_state=42)"
   ]
  },
  {
   "cell_type": "code",
   "execution_count": 74,
   "outputs": [],
   "source": [
    "enn = pd.read_csv('paper_ensemble_nn_results.txt', header=None).iloc[:, :-1]\n",
    "bnn = pd.read_csv('paper_bnn_results.txt', header=None)\n",
    "erf = pd.read_csv('paper_ensemble_rf_results.txt', header=None).iloc[:, :-1]\n",
    "bf = pd.read_csv('paper_bf_results.txt', header=None).iloc[:, :-1]\n",
    "pbf_0 = pd.read_csv('paper_pbf_w0_full_set_results.txt', header=None).iloc[:, :-1]\n",
    "pbf_01 = pd.read_csv('paper_pbf_w01_full_set_results.txt', header=None).iloc[:, :-1]"
   ],
   "metadata": {
    "collapsed": false
   }
  },
  {
   "cell_type": "code",
   "execution_count": 75,
   "outputs": [],
   "source": [
    "means = {}\n",
    "means[\"enn\"] = enn.mean(axis=1)\n",
    "means[\"bnn\"] = bnn.iloc[:, 0]\n",
    "means[\"erf\"] = erf.mean(axis=1)\n",
    "means[\"bf\"] = bf.mean(axis=1)\n",
    "means[\"pbf_0\"] = pbf_0.mean(axis=1)\n",
    "means[\"pbf_01\"] = pbf_01.mean(axis=1)"
   ],
   "metadata": {
    "collapsed": false
   }
  },
  {
   "cell_type": "code",
   "execution_count": 76,
   "outputs": [],
   "source": [
    "stds = {}\n",
    "stds[\"enn\"] = enn.std(axis=1)\n",
    "stds[\"bnn\"] = bnn.iloc[:, 1]\n",
    "stds[\"erf\"] = erf.std(axis=1)\n",
    "stds[\"bf\"] = bf.std(axis=1)\n",
    "stds[\"pbf_0\"] = pbf_0.std(axis=1)\n",
    "stds[\"pbf_01\"] = pbf_01.std(axis=1)"
   ],
   "metadata": {
    "collapsed": false
   }
  },
  {
   "cell_type": "code",
   "execution_count": 77,
   "outputs": [],
   "source": [
    "std_means = {}\n",
    "std_means[\"enn\"] = enn.std(axis=1).mean()\n",
    "std_means[\"bnn\"] = bnn.iloc[:, 1].mean()\n",
    "std_means[\"erf\"] = erf.std(axis=1).mean()\n",
    "std_means[\"bf\"] = bf.std(axis=1).mean()\n",
    "std_means[\"pbf_0\"] = pbf_0.std(axis=1).mean()\n",
    "std_means[\"pbf_01\"] = pbf_01.std(axis=1).mean()"
   ],
   "metadata": {
    "collapsed": false
   }
  },
  {
   "cell_type": "code",
   "execution_count": 78,
   "outputs": [],
   "source": [
    "std_totals = {}\n",
    "std_totals[\"enn\"] = enn.std(axis=1).sum()\n",
    "std_totals[\"bnn\"] = bnn.iloc[:, 1].sum()\n",
    "std_totals[\"erf\"] = erf.std(axis=1).sum()\n",
    "std_totals[\"bf\"] = bf.std(axis=1).sum()\n",
    "std_totals[\"pbf_0\"] = pbf_0.std(axis=1).sum()\n",
    "std_totals[\"pbf_01\"] = pbf_01.std(axis=1).sum()"
   ],
   "metadata": {
    "collapsed": false
   }
  },
  {
   "cell_type": "code",
   "execution_count": 79,
   "outputs": [],
   "source": [
    "from sklearn.metrics import mean_absolute_error, mean_squared_error\n",
    "\n",
    "mae = {}\n",
    "mae[\"enn\"] = mean_absolute_error(y_test, means[\"enn\"])\n",
    "mae[\"bnn\"] = mean_absolute_error(y_test, means[\"bnn\"])\n",
    "mae[\"erf\"] = mean_absolute_error(y_test, means[\"erf\"])\n",
    "mae[\"bf\"] = mean_absolute_error(y_test, means[\"bf\"])\n",
    "mae[\"pbf_0\"] = mean_absolute_error(y_test, means[\"pbf_0\"])\n",
    "mae[\"pbf_01\"] = mean_absolute_error(y_test, means[\"pbf_01\"])\n",
    "\n",
    "mse = {}\n",
    "mse[\"enn\"] = mean_squared_error(y_test, means[\"enn\"])\n",
    "mse[\"bnn\"] = mean_squared_error(y_test, means[\"bnn\"])\n",
    "mse[\"erf\"] = mean_squared_error(y_test, means[\"erf\"])\n",
    "mse[\"bf\"] = mean_squared_error(y_test, means[\"bf\"])\n",
    "mse[\"pbf_0\"] = mean_squared_error(y_test, means[\"pbf_0\"])\n",
    "mse[\"pbf_01\"] = mean_squared_error(y_test, means[\"pbf_01\"])"
   ],
   "metadata": {
    "collapsed": false
   }
  },
  {
   "cell_type": "code",
   "execution_count": 80,
   "outputs": [],
   "source": [
    "import uncertainty_analysis.uncertainty_metrics as metrics\n",
    "\n",
    "cib_interval_values = {}\n",
    "cib_interval_values[\"enn\"] = metrics.get_95_ci_intervals(enn.astype(float))\n",
    "cib_interval_values[\"bnn\"] = metrics.get_95_cb_intervals(bnn.astype(float))\n",
    "cib_interval_values[\"erf\"] = metrics.get_95_ci_intervals(erf.astype(float))\n",
    "cib_interval_values[\"bf\"] = metrics.get_95_ci_intervals(bf.astype(float))\n",
    "cib_interval_values[\"pbf_0\"] = metrics.get_95_ci_intervals(pbf_0.astype(float))\n",
    "cib_interval_values[\"pbf_01\"] = metrics.get_95_ci_intervals(pbf_01.astype(float))"
   ],
   "metadata": {
    "collapsed": false
   }
  },
  {
   "cell_type": "code",
   "execution_count": 82,
   "outputs": [],
   "source": [
    "tvs_scores = {}\n",
    "tvs_scores[\"enn\"] = metrics.tvs_score(cib_interval_values[\"enn\"], y_test)\n",
    "tvs_scores[\"bnn\"] = metrics.tvs_score_bnn(cib_interval_values[\"bnn\"], y_test)\n",
    "tvs_scores[\"erf\"] = metrics.tvs_score(cib_interval_values[\"erf\"], y_test)\n",
    "tvs_scores[\"bf\"] = metrics.tvs_score(cib_interval_values[\"bf\"], y_test)\n",
    "tvs_scores[\"pbf_0\"] = metrics.tvs_score(cib_interval_values[\"pbf_0\"], y_test)\n",
    "tvs_scores[\"pbf_01\"] = metrics.tvs_score(cib_interval_values[\"pbf_01\"], y_test)"
   ],
   "metadata": {
    "collapsed": false
   }
  },
  {
   "cell_type": "code",
   "execution_count": 83,
   "outputs": [],
   "source": [
    "quality_scores = {}\n",
    "quality_scores[\"enn\"] = metrics.quality_score(cib_interval_values[\"enn\"], y_test)\n",
    "quality_scores[\"bnn\"] = metrics.quality_score_bnn(cib_interval_values[\"bnn\"], y_test)\n",
    "quality_scores[\"erf\"] = metrics.quality_score(cib_interval_values[\"erf\"], y_test)\n",
    "quality_scores[\"bf\"] = metrics.quality_score(cib_interval_values[\"bf\"], y_test)\n",
    "quality_scores[\"pbf_0\"] = metrics.quality_score(cib_interval_values[\"pbf_0\"], y_test)\n",
    "quality_scores[\"pbf_01\"] = metrics.quality_score(cib_interval_values[\"pbf_01\"], y_test)"
   ],
   "metadata": {
    "collapsed": false
   }
  },
  {
   "cell_type": "code",
   "execution_count": 91,
   "outputs": [
    {
     "name": "stdout",
     "output_type": "stream",
     "text": [
      "{'enn': 69.607164, 'bnn': 480.501758, 'erf': 8.497975, 'bf': 8.348049, 'pbf_0': 7.064103, 'pbf_01': 8.285746}\n"
     ]
    }
   ],
   "source": [
    "rounded_dict = {key: round(value, 6) for key, value in quality_scores.items()}\n",
    "print(rounded_dict)"
   ],
   "metadata": {
    "collapsed": false
   }
  },
  {
   "cell_type": "code",
   "execution_count": 92,
   "outputs": [
    {
     "data": {
      "text/plain": "           enn     bnn     erf      bf   pbf_0  pbf_01\nenn        1.0  0.8125  0.1875  0.1875  0.1875  0.1875\nbnn     0.8125     1.0  0.6875   0.625   0.625     0.5\nerf     0.1875  0.6875     1.0  0.9375  0.4375   0.375\nbf      0.1875   0.625  0.9375     1.0  0.3125  0.5625\npbf_0   0.1875   0.625  0.4375  0.3125     1.0  0.0625\npbf_01  0.1875     0.5   0.375  0.5625  0.0625     1.0",
      "text/html": "<div>\n<style scoped>\n    .dataframe tbody tr th:only-of-type {\n        vertical-align: middle;\n    }\n\n    .dataframe tbody tr th {\n        vertical-align: top;\n    }\n\n    .dataframe thead th {\n        text-align: right;\n    }\n</style>\n<table border=\"1\" class=\"dataframe\">\n  <thead>\n    <tr style=\"text-align: right;\">\n      <th></th>\n      <th>enn</th>\n      <th>bnn</th>\n      <th>erf</th>\n      <th>bf</th>\n      <th>pbf_0</th>\n      <th>pbf_01</th>\n    </tr>\n  </thead>\n  <tbody>\n    <tr>\n      <th>enn</th>\n      <td>1.0</td>\n      <td>0.8125</td>\n      <td>0.1875</td>\n      <td>0.1875</td>\n      <td>0.1875</td>\n      <td>0.1875</td>\n    </tr>\n    <tr>\n      <th>bnn</th>\n      <td>0.8125</td>\n      <td>1.0</td>\n      <td>0.6875</td>\n      <td>0.625</td>\n      <td>0.625</td>\n      <td>0.5</td>\n    </tr>\n    <tr>\n      <th>erf</th>\n      <td>0.1875</td>\n      <td>0.6875</td>\n      <td>1.0</td>\n      <td>0.9375</td>\n      <td>0.4375</td>\n      <td>0.375</td>\n    </tr>\n    <tr>\n      <th>bf</th>\n      <td>0.1875</td>\n      <td>0.625</td>\n      <td>0.9375</td>\n      <td>1.0</td>\n      <td>0.3125</td>\n      <td>0.5625</td>\n    </tr>\n    <tr>\n      <th>pbf_0</th>\n      <td>0.1875</td>\n      <td>0.625</td>\n      <td>0.4375</td>\n      <td>0.3125</td>\n      <td>1.0</td>\n      <td>0.0625</td>\n    </tr>\n    <tr>\n      <th>pbf_01</th>\n      <td>0.1875</td>\n      <td>0.5</td>\n      <td>0.375</td>\n      <td>0.5625</td>\n      <td>0.0625</td>\n      <td>1.0</td>\n    </tr>\n  </tbody>\n</table>\n</div>"
     },
     "execution_count": 92,
     "metadata": {},
     "output_type": "execute_result"
    }
   ],
   "source": [
    "cds_scores = pd.DataFrame(index=cib_interval_values.keys(), columns=cib_interval_values.keys())\n",
    "\n",
    "# Apply the function to the values and fill the DataFrame with the results\n",
    "for var_x, val_x in cib_interval_values.items():\n",
    "    for var_y, val_y in cib_interval_values.items():\n",
    "        if var_x == 'bnn':\n",
    "            cds_scores.loc[var_x, var_y] = metrics.cds_score(val_x, means[var_x], val_y, means[var_y], bnn=True)\n",
    "        elif var_y == 'bnn':\n",
    "            cds_scores.loc[var_x, var_y] = metrics.cds_score(val_y, means[var_y], val_x, means[var_x], bnn=True)\n",
    "        else:\n",
    "            cds_scores.loc[var_x, var_y] = metrics.cds_score(val_y, means[var_y], val_x, means[var_x])\n",
    "\n",
    "cds_scores"
   ],
   "metadata": {
    "collapsed": false
   }
  }
 ],
 "metadata": {
  "kernelspec": {
   "display_name": "Python 3",
   "language": "python",
   "name": "python3"
  },
  "language_info": {
   "codemirror_mode": {
    "name": "ipython",
    "version": 2
   },
   "file_extension": ".py",
   "mimetype": "text/x-python",
   "name": "python",
   "nbconvert_exporter": "python",
   "pygments_lexer": "ipython2",
   "version": "2.7.6"
  }
 },
 "nbformat": 4,
 "nbformat_minor": 0
}
