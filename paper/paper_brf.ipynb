{
 "cells": [
  {
   "cell_type": "code",
   "execution_count": 1,
   "metadata": {
    "collapsed": true
   },
   "outputs": [
    {
     "name": "stderr",
     "output_type": "stream",
     "text": [
      "C:\\Users\\elsag\\OneDrive\\Desktop\\Uni\\Year 4\\Academic\\Dissertation\\Final Report\\Code\\scikit-learn-1.2.1\\scikit-learn-1.2.1\\venv\\lib\\site-packages\\openml\\datasets\\functions.py:438: FutureWarning: Starting from Version 0.15 `download_data`, `download_qualities`, and `download_features_meta_data` will all be ``False`` instead of ``True`` by default to enable lazy loading. To disable this message until version 0.15 explicitly set `download_data`, `download_qualities`, and `download_features_meta_data` to a bool while calling `get_dataset`.\n",
      "  warnings.warn(\n"
     ]
    }
   ],
   "source": [
    "import openml\n",
    "import numpy as np\n",
    "\n",
    "dataset = openml.datasets.get_dataset(487)\n",
    "X, y, _, attribute_names = dataset.get_data(target=dataset.default_target_attribute)\n",
    "from sklearn.preprocessing import StandardScaler\n",
    "\n",
    "sc = StandardScaler()\n",
    "X = sc.fit_transform(X)\n",
    "from sklearn.model_selection import train_test_split\n",
    "\n",
    "X_train, X_test, y_train, y_test = train_test_split(X, y, test_size=0.25, random_state=42)"
   ]
  },
  {
   "cell_type": "code",
   "execution_count": 2,
   "outputs": [],
   "source": [
    "from sklearn.ensemble import RandomForestRegressor\n",
    "from uncertainty_analysis import bootstrap\n",
    "\n",
    "n_rubin_samples = 500\n",
    "n_pbf_btstrp_smpls = 30"
   ],
   "metadata": {
    "collapsed": false
   }
  },
  {
   "cell_type": "markdown",
   "source": [
    "# Bayesian Forest"
   ],
   "metadata": {
    "collapsed": false
   }
  },
  {
   "cell_type": "code",
   "execution_count": 4,
   "outputs": [],
   "source": [
    "paper_bf_results = []  # List[ensemble np.array[regressors np.array[predictions]]\n",
    "for i in range(0, 10):\n",
    "    m = RandomForestRegressor(criterion='absolute_error', max_depth=None, max_features=13,\n",
    "                              min_samples_split=2, min_samples_leaf=4, n_estimators=300\n",
    "                              ).fit(X_train, y_train)\n",
    "\n",
    "    predictions = np.empty((m.n_estimators, len(X_test)))\n",
    "\n",
    "    for j, tree in enumerate(m.estimators_):\n",
    "        predictions[j] = tree.predict(X_test)\n",
    "\n",
    "    bootstrapped_predictions = np.empty((len(X_test), n_rubin_samples))\n",
    "    for k, result_set in enumerate(predictions.T):\n",
    "        bootstrapped_predictions[k] = bootstrap.bayesian_bootstrap(result_set, n_rubin_samples)\n",
    "\n",
    "    paper_bf_results.append(bootstrapped_predictions)"
   ],
   "metadata": {
    "collapsed": false
   }
  },
  {
   "cell_type": "code",
   "execution_count": 5,
   "outputs": [],
   "source": [
    "from uncertainty_analysis import project_helper_functions as phf\n",
    "\n",
    "best_model_results = paper_bf_results[phf.bf_get_best_model_idx(paper_bf_results, y_test)]\n",
    "phf.write_ensemble_model_results(best_model_results, \"paper_bf_results.txt\")"
   ],
   "metadata": {
    "collapsed": false
   }
  },
  {
   "cell_type": "markdown",
   "source": [
    "# Proper Bayesian Forest, w=0"
   ],
   "metadata": {
    "collapsed": false
   }
  },
  {
   "cell_type": "code",
   "execution_count": 6,
   "outputs": [],
   "source": [
    "from uncertainty_analysis import proper_bayesian_forest as pbf\n",
    "\n",
    "k_w0 = pbf.get_k(0, n_pbf_btstrp_smpls)"
   ],
   "metadata": {
    "collapsed": false
   }
  },
  {
   "cell_type": "code",
   "execution_count": 7,
   "outputs": [],
   "source": [
    "def create_priors(X):\n",
    "    n_features = X.shape[1]\n",
    "    priors = np.empty(n_features, dtype=pbf.UniformPrior)\n",
    "    for i in range(0, n_features):\n",
    "        priors[i] = pbf.UniformPrior(X[:, i])\n",
    "\n",
    "    return priors"
   ],
   "metadata": {
    "collapsed": false
   }
  },
  {
   "cell_type": "code",
   "execution_count": 13,
   "outputs": [],
   "source": [
    "def proper_bf(k):\n",
    "    pbf_results = []\n",
    "\n",
    "    for i in range(0, 10):\n",
    "        m = pbf.ProperBayesianForest(X_train, y_train,\n",
    "                                     create_priors(X_train),\n",
    "                                     k_values=np.array([k] * X_train.shape[1], dtype=np.int32),\n",
    "                                     n_galvani_samples=n_pbf_btstrp_smpls,\n",
    "                                     criterion='absolute_error', max_depth=None, max_features=13,\n",
    "                                     min_samples_split=2, min_samples_leaf=4, n_estimators=300)\n",
    "        m.fit()\n",
    "\n",
    "        predictions = np.empty((len(X_test), n_rubin_samples))\n",
    "\n",
    "        for j, xs in enumerate(X_test):\n",
    "            predictions[j] = m.get_prediction_distribution(xs.reshape(1, -1), n_rubin_samples=n_rubin_samples)\n",
    "\n",
    "        pbf_results.append(predictions)\n",
    "\n",
    "    return pbf_results"
   ],
   "metadata": {
    "collapsed": false
   }
  },
  {
   "cell_type": "code",
   "execution_count": 14,
   "outputs": [],
   "source": [
    "pbf_w0_results = proper_bf(k_w0)\n",
    "best_model_results = pbf_w0_results[phf.bf_get_best_model_idx(pbf_w0_results, y_test)]\n",
    "phf.write_ensemble_model_results(best_model_results, \"paper_pbf_w0_full_set_results.txt\")"
   ],
   "metadata": {
    "collapsed": false
   }
  },
  {
   "cell_type": "markdown",
   "source": [
    "# Proper Bayesian Forest, w=0.1"
   ],
   "metadata": {
    "collapsed": false
   }
  },
  {
   "cell_type": "code",
   "execution_count": 15,
   "outputs": [],
   "source": [
    "k_w1 = pbf.get_k(0.1, n_pbf_btstrp_smpls)"
   ],
   "metadata": {
    "collapsed": false
   }
  },
  {
   "cell_type": "code",
   "execution_count": 16,
   "outputs": [],
   "source": [
    "pbf_w1_results = proper_bf(k_w1)\n",
    "best_model_results = pbf_w1_results[phf.bf_get_best_model_idx(pbf_w1_results, y_test)]\n",
    "phf.write_ensemble_model_results(best_model_results, \"paper_pbf_w01_full_set_results.txt\")"
   ],
   "metadata": {
    "collapsed": false
   }
  }
 ],
 "metadata": {
  "kernelspec": {
   "display_name": "Python 3",
   "language": "python",
   "name": "python3"
  },
  "language_info": {
   "codemirror_mode": {
    "name": "ipython",
    "version": 2
   },
   "file_extension": ".py",
   "mimetype": "text/x-python",
   "name": "python",
   "nbconvert_exporter": "python",
   "pygments_lexer": "ipython2",
   "version": "2.7.6"
  }
 },
 "nbformat": 4,
 "nbformat_minor": 0
}
